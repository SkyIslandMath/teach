{
 "cells": [
  {
   "cell_type": "markdown",
   "metadata": {},
   "source": [
    "# `print`"
   ]
  },
  {
   "cell_type": "markdown",
   "metadata": {},
   "source": [
    "CodeHS used Python 2, but from now on, we will be using Python 3. Most of the changes are \"under the hood\" so you won't notice them. The big change is in how we use print. \n",
    "Before, we could write `print \"Hello\"` and it would work fine. \n",
    "\n",
    "In Python 3 `print \"Hello\"` will cause an error.\n",
    "In Python 3 `print` is a function, so we need to use parentheses after it, and it will print out the string inside the parentheses like this : `print(\"Hello\")`"
   ]
  },
  {
   "cell_type": "markdown",
   "metadata": {},
   "source": [
    "This will cause an error:"
   ]
  },
  {
   "cell_type": "code",
   "execution_count": 1,
   "metadata": {},
   "outputs": [
    {
     "ename": "SyntaxError",
     "evalue": "Missing parentheses in call to 'print'. Did you mean print(\"Hello\")? (<ipython-input-1-dabf489e9f92>, line 1)",
     "output_type": "error",
     "traceback": [
      "\u001b[1;36m  File \u001b[1;32m\"<ipython-input-1-dabf489e9f92>\"\u001b[1;36m, line \u001b[1;32m1\u001b[0m\n\u001b[1;33m    print \"Hello\"\u001b[0m\n\u001b[1;37m                ^\u001b[0m\n\u001b[1;31mSyntaxError\u001b[0m\u001b[1;31m:\u001b[0m Missing parentheses in call to 'print'. Did you mean print(\"Hello\")?\n"
     ]
    }
   ],
   "source": [
    "print \"Hello\""
   ]
  },
  {
   "cell_type": "markdown",
   "metadata": {},
   "source": [
    "This will not:"
   ]
  },
  {
   "cell_type": "code",
   "execution_count": 2,
   "metadata": {},
   "outputs": [
    {
     "name": "stdout",
     "output_type": "stream",
     "text": [
      "Hello\n"
     ]
    }
   ],
   "source": [
    "print(\"Hello\")"
   ]
  },
  {
   "cell_type": "markdown",
   "metadata": {},
   "source": [
    "## f-strings"
   ]
  },
  {
   "cell_type": "markdown",
   "metadata": {},
   "source": [
    "There are some neat new features to Python 3 too. One of my favorites is the f-string. It makes the process of creating a string much easier!\n",
    "\n",
    "Let's say we have two variables, `name` and `age`"
   ]
  },
  {
   "cell_type": "code",
   "execution_count": 3,
   "metadata": {},
   "outputs": [],
   "source": [
    "name='Jeff'\n",
    "age=25"
   ]
  },
  {
   "cell_type": "markdown",
   "metadata": {},
   "source": [
    "If we wanted to use these values in a string in Python 2 we used the annoying process of string concatenation. So if we wanted to print out \n",
    "\n",
    "`Hi Jeff, you're 25 years old` \n",
    "\n",
    "We would need to do something like the following:"
   ]
  },
  {
   "cell_type": "code",
   "execution_count": 4,
   "metadata": {},
   "outputs": [
    {
     "name": "stdout",
     "output_type": "stream",
     "text": [
      "Hi Jeff, you're 25 years old\n"
     ]
    }
   ],
   "source": [
    "print(\"Hi \"+name+\", you're \"+str(age)+\" years old\")"
   ]
  },
  {
   "cell_type": "markdown",
   "metadata": {},
   "source": [
    "This was annoying, and it was easy to get things like the spaces and commas wrong.\n",
    "\n",
    "### Now we can use an f-string!\n",
    "In order to use an f-string, just put a lowercase f before the beginning quotation marks of a string. Then, anywhere you want to insert a variable, just put its name inside curly brackets right where you want it to go in the string. No fuss, no muss. \n",
    "\n",
    "Our new code is:"
   ]
  },
  {
   "cell_type": "code",
   "execution_count": 5,
   "metadata": {},
   "outputs": [
    {
     "name": "stdout",
     "output_type": "stream",
     "text": [
      "Hi Jeff, you're 25 years old\n"
     ]
    }
   ],
   "source": [
    "print(f\"Hi {name}, you're {age} years old\")"
   ]
  },
  {
   "cell_type": "markdown",
   "metadata": {},
   "source": [
    "I find this way easier to read and write!!!"
   ]
  },
  {
   "cell_type": "code",
   "execution_count": 6,
   "metadata": {},
   "outputs": [
    {
     "name": "stdout",
     "output_type": "stream",
     "text": [
      "What's your name? Matthew\n",
      "How old are you? 40\n",
      "Hi Matthew, you're 40 years old\n"
     ]
    }
   ],
   "source": [
    "name=input(\"What's your name? \")\n",
    "age=input(\"How old are you? \")\n",
    "print(f\"Hi {name}, you're {age} years old\")"
   ]
  },
  {
   "cell_type": "markdown",
   "metadata": {},
   "source": [
    "# Assignment"
   ]
  },
  {
   "cell_type": "code",
   "execution_count": null,
   "metadata": {},
   "outputs": [],
   "source": []
  }
 ],
 "metadata": {
  "kernelspec": {
   "display_name": "Python 3",
   "language": "python",
   "name": "python3"
  },
  "language_info": {
   "codemirror_mode": {
    "name": "ipython",
    "version": 3
   },
   "file_extension": ".py",
   "mimetype": "text/x-python",
   "name": "python",
   "nbconvert_exporter": "python",
   "pygments_lexer": "ipython3",
   "version": "3.7.3"
  }
 },
 "nbformat": 4,
 "nbformat_minor": 2
}
