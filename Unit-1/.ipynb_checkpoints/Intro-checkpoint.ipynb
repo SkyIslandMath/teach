{
 "cells": [
  {
   "cell_type": "markdown",
   "metadata": {},
   "source": [
    "# Welcome to Jupyter notebooks!\n",
    "We won't be using codehs this semester, we'll start off by using the jupyter notebook coding environment.\n",
    "This environment is nice because it can include cells of text, like this one, and cells of code like the one below:"
   ]
  },
  {
   "cell_type": "code",
   "execution_count": 2,
   "metadata": {},
   "outputs": [
    {
     "name": "stdout",
     "output_type": "stream",
     "text": [
      "Hello\n"
     ]
    }
   ],
   "source": [
    "print('Hello')"
   ]
  },
  {
   "cell_type": "markdown",
   "metadata": {},
   "source": [
    "In order to run the code above, just click on the cell and then click on the run button at the top of the page. You can also run a cell by clicking on it and pressing `Shift+Enter`"
   ]
  },
  {
   "cell_type": "markdown",
   "metadata": {},
   "source": [
    "If the code has run successfully, you will see `In [1]:` to the left of the code, and any output of the code below it. The number inbetween the square brackets is `1` because it is the first cell of code we have executed. \n",
    "- Click on the cell above and run it again. \n",
    "- You'll see that the number changes to `2` because it is now the second cell we have run. \n",
    "- As you execute more code the number next to each piece of code will continue to rise."
   ]
  },
  {
   "cell_type": "markdown",
   "metadata": {},
   "source": [
    "# The order that you execute cells is important"
   ]
  },
  {
   "cell_type": "markdown",
   "metadata": {},
   "source": [
    "## What not to do"
   ]
  },
  {
   "cell_type": "markdown",
   "metadata": {},
   "source": [
    "You don't have to execute cells in order. Look at the following two cells:"
   ]
  },
  {
   "cell_type": "code",
   "execution_count": 6,
   "metadata": {},
   "outputs": [
    {
     "name": "stdout",
     "output_type": "stream",
     "text": [
      "Hello again\n"
     ]
    }
   ],
   "source": [
    "print(x)"
   ]
  },
  {
   "cell_type": "code",
   "execution_count": 5,
   "metadata": {},
   "outputs": [],
   "source": [
    "x='Hello again'"
   ]
  },
  {
   "cell_type": "markdown",
   "metadata": {},
   "source": [
    "If you execute `print(x)` first you'll get an error. but after you execute `x='Hello Again'` you can execute `print(x)` with no problems."
   ]
  },
  {
   "cell_type": "markdown",
   "metadata": {},
   "source": [
    "### When I go over your homework, I will execute cells in order (from the top to the bottom). Make sure your code is in the right order"
   ]
  }
 ],
 "metadata": {
  "kernelspec": {
   "display_name": "Python 3",
   "language": "python",
   "name": "python3"
  },
  "language_info": {
   "codemirror_mode": {
    "name": "ipython",
    "version": 3
   },
   "file_extension": ".py",
   "mimetype": "text/x-python",
   "name": "python",
   "nbconvert_exporter": "python",
   "pygments_lexer": "ipython3",
   "version": "3.7.3"
  }
 },
 "nbformat": 4,
 "nbformat_minor": 2
}
