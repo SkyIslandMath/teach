{
 "cells": [
  {
   "cell_type": "code",
   "execution_count": 1,
   "metadata": {},
   "outputs": [],
   "source": [
    "import pandas as pd\n",
    "import matplotlib.pyplot as plt\n",
    "import numpy as np\n",
    "import ipywidgets as widgets\n",
    "from sklearn.linear_model import LinearRegression\n",
    "import statsmodels.api as sm\n",
    "from statsmodels.formula.api import ols\n",
    "from matplotlib import pyplot as plt\n",
    "from sklearn.linear_model import LinearRegression\n",
    "import plotly.graph_objects as go\n",
    "import plotly.express as px\n",
    "%matplotlib inline"
   ]
  },
  {
   "cell_type": "code",
   "execution_count": 2,
   "metadata": {},
   "outputs": [],
   "source": [
    "df=pd.read_csv(\"D://Tree Data C2E clean.csv\")"
   ]
  },
  {
   "cell_type": "code",
   "execution_count": 3,
   "metadata": {},
   "outputs": [
    {
     "name": "stdout",
     "output_type": "stream",
     "text": [
      "<class 'pandas.core.frame.DataFrame'>\n",
      "RangeIndex: 42 entries, 0 to 41\n",
      "Data columns (total 6 columns):\n",
      "Tree ID         42 non-null int64\n",
      "Tree Species    42 non-null object\n",
      "4/29/2016       42 non-null int64\n",
      "10/20/2016      40 non-null float64\n",
      "4/10/2017       42 non-null float64\n",
      "9/11/2017       41 non-null float64\n",
      "dtypes: float64(3), int64(2), object(1)\n",
      "memory usage: 2.1+ KB\n"
     ]
    }
   ],
   "source": [
    "df.info()"
   ]
  },
  {
   "cell_type": "code",
   "execution_count": 4,
   "metadata": {},
   "outputs": [
    {
     "data": {
      "text/html": [
       "<div>\n",
       "<style scoped>\n",
       "    .dataframe tbody tr th:only-of-type {\n",
       "        vertical-align: middle;\n",
       "    }\n",
       "\n",
       "    .dataframe tbody tr th {\n",
       "        vertical-align: top;\n",
       "    }\n",
       "\n",
       "    .dataframe thead th {\n",
       "        text-align: right;\n",
       "    }\n",
       "</style>\n",
       "<table border=\"1\" class=\"dataframe\">\n",
       "  <thead>\n",
       "    <tr style=\"text-align: right;\">\n",
       "      <th></th>\n",
       "      <th>Tree ID</th>\n",
       "      <th>Tree Species</th>\n",
       "      <th>4/29/2016</th>\n",
       "      <th>10/20/2016</th>\n",
       "      <th>4/10/2017</th>\n",
       "      <th>9/11/2017</th>\n",
       "    </tr>\n",
       "  </thead>\n",
       "  <tbody>\n",
       "    <tr>\n",
       "      <th>0</th>\n",
       "      <td>1</td>\n",
       "      <td>Screwbean Mesquite/Ironwood</td>\n",
       "      <td>42</td>\n",
       "      <td>40.0</td>\n",
       "      <td>36.0</td>\n",
       "      <td>NaN</td>\n",
       "    </tr>\n",
       "    <tr>\n",
       "      <th>1</th>\n",
       "      <td>2</td>\n",
       "      <td>Netleaf Hackberry</td>\n",
       "      <td>29</td>\n",
       "      <td>83.0</td>\n",
       "      <td>85.0</td>\n",
       "      <td>61.0</td>\n",
       "    </tr>\n",
       "    <tr>\n",
       "      <th>2</th>\n",
       "      <td>3</td>\n",
       "      <td>Screwbean Mesquite</td>\n",
       "      <td>45</td>\n",
       "      <td>107.0</td>\n",
       "      <td>120.0</td>\n",
       "      <td>98.5</td>\n",
       "    </tr>\n",
       "    <tr>\n",
       "      <th>3</th>\n",
       "      <td>4</td>\n",
       "      <td>Catclaw Acacia</td>\n",
       "      <td>46</td>\n",
       "      <td>NaN</td>\n",
       "      <td>80.0</td>\n",
       "      <td>66.5</td>\n",
       "    </tr>\n",
       "    <tr>\n",
       "      <th>4</th>\n",
       "      <td>5</td>\n",
       "      <td>Desert Willow</td>\n",
       "      <td>39</td>\n",
       "      <td>78.0</td>\n",
       "      <td>80.0</td>\n",
       "      <td>90.0</td>\n",
       "    </tr>\n",
       "  </tbody>\n",
       "</table>\n",
       "</div>"
      ],
      "text/plain": [
       "   Tree ID                 Tree Species  4/29/2016  10/20/2016  4/10/2017  \\\n",
       "0        1  Screwbean Mesquite/Ironwood         42        40.0       36.0   \n",
       "1        2            Netleaf Hackberry         29        83.0       85.0   \n",
       "2        3           Screwbean Mesquite         45       107.0      120.0   \n",
       "3        4               Catclaw Acacia         46         NaN       80.0   \n",
       "4        5                Desert Willow         39        78.0       80.0   \n",
       "\n",
       "   9/11/2017  \n",
       "0        NaN  \n",
       "1       61.0  \n",
       "2       98.5  \n",
       "3       66.5  \n",
       "4       90.0  "
      ]
     },
     "execution_count": 4,
     "metadata": {},
     "output_type": "execute_result"
    }
   ],
   "source": [
    "df.head()"
   ]
  },
  {
   "cell_type": "code",
   "execution_count": 5,
   "metadata": {},
   "outputs": [
    {
     "data": {
      "text/html": [
       "<div>\n",
       "<style scoped>\n",
       "    .dataframe tbody tr th:only-of-type {\n",
       "        vertical-align: middle;\n",
       "    }\n",
       "\n",
       "    .dataframe tbody tr th {\n",
       "        vertical-align: top;\n",
       "    }\n",
       "\n",
       "    .dataframe thead th {\n",
       "        text-align: right;\n",
       "    }\n",
       "</style>\n",
       "<table border=\"1\" class=\"dataframe\">\n",
       "  <thead>\n",
       "    <tr style=\"text-align: right;\">\n",
       "      <th></th>\n",
       "      <th>Tree ID</th>\n",
       "      <th>Tree Species</th>\n",
       "      <th>Date</th>\n",
       "      <th>Height</th>\n",
       "    </tr>\n",
       "  </thead>\n",
       "  <tbody>\n",
       "    <tr>\n",
       "      <th>0</th>\n",
       "      <td>1</td>\n",
       "      <td>Screwbean Mesquite/Ironwood</td>\n",
       "      <td>4/29/2016</td>\n",
       "      <td>42.0</td>\n",
       "    </tr>\n",
       "    <tr>\n",
       "      <th>1</th>\n",
       "      <td>2</td>\n",
       "      <td>Netleaf Hackberry</td>\n",
       "      <td>4/29/2016</td>\n",
       "      <td>29.0</td>\n",
       "    </tr>\n",
       "    <tr>\n",
       "      <th>2</th>\n",
       "      <td>3</td>\n",
       "      <td>Screwbean Mesquite</td>\n",
       "      <td>4/29/2016</td>\n",
       "      <td>45.0</td>\n",
       "    </tr>\n",
       "    <tr>\n",
       "      <th>3</th>\n",
       "      <td>4</td>\n",
       "      <td>Catclaw Acacia</td>\n",
       "      <td>4/29/2016</td>\n",
       "      <td>46.0</td>\n",
       "    </tr>\n",
       "    <tr>\n",
       "      <th>4</th>\n",
       "      <td>5</td>\n",
       "      <td>Desert Willow</td>\n",
       "      <td>4/29/2016</td>\n",
       "      <td>39.0</td>\n",
       "    </tr>\n",
       "    <tr>\n",
       "      <th>...</th>\n",
       "      <td>...</td>\n",
       "      <td>...</td>\n",
       "      <td>...</td>\n",
       "      <td>...</td>\n",
       "    </tr>\n",
       "    <tr>\n",
       "      <th>163</th>\n",
       "      <td>38</td>\n",
       "      <td>Screwbean Mesquite</td>\n",
       "      <td>9/11/2017</td>\n",
       "      <td>77.0</td>\n",
       "    </tr>\n",
       "    <tr>\n",
       "      <th>164</th>\n",
       "      <td>39</td>\n",
       "      <td>Canyon Hackberry</td>\n",
       "      <td>9/11/2017</td>\n",
       "      <td>88.0</td>\n",
       "    </tr>\n",
       "    <tr>\n",
       "      <th>165</th>\n",
       "      <td>40</td>\n",
       "      <td>Desert Hackberry</td>\n",
       "      <td>9/11/2017</td>\n",
       "      <td>254.0</td>\n",
       "    </tr>\n",
       "    <tr>\n",
       "      <th>166</th>\n",
       "      <td>41</td>\n",
       "      <td>Desert Hackberry</td>\n",
       "      <td>9/11/2017</td>\n",
       "      <td>24.0</td>\n",
       "    </tr>\n",
       "    <tr>\n",
       "      <th>167</th>\n",
       "      <td>42</td>\n",
       "      <td>Desert Hackberry</td>\n",
       "      <td>9/11/2017</td>\n",
       "      <td>24.0</td>\n",
       "    </tr>\n",
       "  </tbody>\n",
       "</table>\n",
       "<p>168 rows × 4 columns</p>\n",
       "</div>"
      ],
      "text/plain": [
       "     Tree ID                 Tree Species       Date  Height\n",
       "0          1  Screwbean Mesquite/Ironwood  4/29/2016    42.0\n",
       "1          2            Netleaf Hackberry  4/29/2016    29.0\n",
       "2          3           Screwbean Mesquite  4/29/2016    45.0\n",
       "3          4               Catclaw Acacia  4/29/2016    46.0\n",
       "4          5                Desert Willow  4/29/2016    39.0\n",
       "..       ...                          ...        ...     ...\n",
       "163       38           Screwbean Mesquite  9/11/2017    77.0\n",
       "164       39             Canyon Hackberry  9/11/2017    88.0\n",
       "165       40             Desert Hackberry  9/11/2017   254.0\n",
       "166       41             Desert Hackberry  9/11/2017    24.0\n",
       "167       42             Desert Hackberry  9/11/2017    24.0\n",
       "\n",
       "[168 rows x 4 columns]"
      ]
     },
     "execution_count": 5,
     "metadata": {},
     "output_type": "execute_result"
    }
   ],
   "source": [
    "melted=df.melt(id_vars=['Tree ID','Tree Species'],value_vars=['4/29/2016','10/20/2016','4/10/2017','9/11/2017'],var_name='Date',value_name='Height')\n",
    "melted"
   ]
  },
  {
   "cell_type": "code",
   "execution_count": 6,
   "metadata": {},
   "outputs": [],
   "source": [
    "species=df.groupby('Tree Species').mean()"
   ]
  },
  {
   "cell_type": "code",
   "execution_count": 7,
   "metadata": {},
   "outputs": [],
   "source": [
    "species=species.reset_index()"
   ]
  },
  {
   "cell_type": "code",
   "execution_count": 8,
   "metadata": {},
   "outputs": [],
   "source": [
    "species=species.drop('Tree ID',axis=1)"
   ]
  },
  {
   "cell_type": "code",
   "execution_count": 9,
   "metadata": {},
   "outputs": [
    {
     "data": {
      "text/html": [
       "<div>\n",
       "<style scoped>\n",
       "    .dataframe tbody tr th:only-of-type {\n",
       "        vertical-align: middle;\n",
       "    }\n",
       "\n",
       "    .dataframe tbody tr th {\n",
       "        vertical-align: top;\n",
       "    }\n",
       "\n",
       "    .dataframe thead th {\n",
       "        text-align: right;\n",
       "    }\n",
       "</style>\n",
       "<table border=\"1\" class=\"dataframe\">\n",
       "  <thead>\n",
       "    <tr style=\"text-align: right;\">\n",
       "      <th></th>\n",
       "      <th>Tree Species</th>\n",
       "      <th>4/29/2016</th>\n",
       "      <th>10/20/2016</th>\n",
       "      <th>4/10/2017</th>\n",
       "      <th>9/11/2017</th>\n",
       "    </tr>\n",
       "  </thead>\n",
       "  <tbody>\n",
       "    <tr>\n",
       "      <th>0</th>\n",
       "      <td>Blue Palo Verde</td>\n",
       "      <td>33.250000</td>\n",
       "      <td>69.750000</td>\n",
       "      <td>67.000000</td>\n",
       "      <td>109.000000</td>\n",
       "    </tr>\n",
       "    <tr>\n",
       "      <th>1</th>\n",
       "      <td>Canyon Hackberry</td>\n",
       "      <td>43.000000</td>\n",
       "      <td>83.000000</td>\n",
       "      <td>95.000000</td>\n",
       "      <td>88.000000</td>\n",
       "    </tr>\n",
       "    <tr>\n",
       "      <th>2</th>\n",
       "      <td>Catclaw Acacia</td>\n",
       "      <td>49.166667</td>\n",
       "      <td>66.875000</td>\n",
       "      <td>59.416667</td>\n",
       "      <td>67.750000</td>\n",
       "    </tr>\n",
       "    <tr>\n",
       "      <th>3</th>\n",
       "      <td>Desert Hackberry</td>\n",
       "      <td>36.333333</td>\n",
       "      <td>32.833333</td>\n",
       "      <td>29.666667</td>\n",
       "      <td>100.666667</td>\n",
       "    </tr>\n",
       "    <tr>\n",
       "      <th>4</th>\n",
       "      <td>Desert Willow</td>\n",
       "      <td>41.500000</td>\n",
       "      <td>77.000000</td>\n",
       "      <td>77.000000</td>\n",
       "      <td>84.750000</td>\n",
       "    </tr>\n",
       "    <tr>\n",
       "      <th>5</th>\n",
       "      <td>Foothills Palo Verde</td>\n",
       "      <td>35.000000</td>\n",
       "      <td>48.500000</td>\n",
       "      <td>49.750000</td>\n",
       "      <td>72.500000</td>\n",
       "    </tr>\n",
       "    <tr>\n",
       "      <th>6</th>\n",
       "      <td>Netleaf Hackberry</td>\n",
       "      <td>29.000000</td>\n",
       "      <td>83.000000</td>\n",
       "      <td>85.000000</td>\n",
       "      <td>61.000000</td>\n",
       "    </tr>\n",
       "    <tr>\n",
       "      <th>7</th>\n",
       "      <td>Screwbean Mesquite</td>\n",
       "      <td>40.800000</td>\n",
       "      <td>86.400000</td>\n",
       "      <td>91.600000</td>\n",
       "      <td>99.900000</td>\n",
       "    </tr>\n",
       "    <tr>\n",
       "      <th>8</th>\n",
       "      <td>Screwbean Mesquite/Ironwood</td>\n",
       "      <td>42.000000</td>\n",
       "      <td>40.000000</td>\n",
       "      <td>36.000000</td>\n",
       "      <td>NaN</td>\n",
       "    </tr>\n",
       "    <tr>\n",
       "      <th>9</th>\n",
       "      <td>Sweet Acacia</td>\n",
       "      <td>54.000000</td>\n",
       "      <td>87.500000</td>\n",
       "      <td>88.250000</td>\n",
       "      <td>109.500000</td>\n",
       "    </tr>\n",
       "    <tr>\n",
       "      <th>10</th>\n",
       "      <td>Velvet Mesquite</td>\n",
       "      <td>43.666667</td>\n",
       "      <td>61.000000</td>\n",
       "      <td>58.000000</td>\n",
       "      <td>67.000000</td>\n",
       "    </tr>\n",
       "    <tr>\n",
       "      <th>11</th>\n",
       "      <td>Whitethorn Acacia</td>\n",
       "      <td>43.666667</td>\n",
       "      <td>65.666667</td>\n",
       "      <td>54.666667</td>\n",
       "      <td>59.500000</td>\n",
       "    </tr>\n",
       "  </tbody>\n",
       "</table>\n",
       "</div>"
      ],
      "text/plain": [
       "                   Tree Species  4/29/2016  10/20/2016  4/10/2017   9/11/2017\n",
       "0               Blue Palo Verde  33.250000   69.750000  67.000000  109.000000\n",
       "1              Canyon Hackberry  43.000000   83.000000  95.000000   88.000000\n",
       "2                Catclaw Acacia  49.166667   66.875000  59.416667   67.750000\n",
       "3              Desert Hackberry  36.333333   32.833333  29.666667  100.666667\n",
       "4                 Desert Willow  41.500000   77.000000  77.000000   84.750000\n",
       "5          Foothills Palo Verde  35.000000   48.500000  49.750000   72.500000\n",
       "6             Netleaf Hackberry  29.000000   83.000000  85.000000   61.000000\n",
       "7            Screwbean Mesquite  40.800000   86.400000  91.600000   99.900000\n",
       "8   Screwbean Mesquite/Ironwood  42.000000   40.000000  36.000000         NaN\n",
       "9                  Sweet Acacia  54.000000   87.500000  88.250000  109.500000\n",
       "10              Velvet Mesquite  43.666667   61.000000  58.000000   67.000000\n",
       "11            Whitethorn Acacia  43.666667   65.666667  54.666667   59.500000"
      ]
     },
     "execution_count": 9,
     "metadata": {},
     "output_type": "execute_result"
    }
   ],
   "source": [
    "\n",
    "species"
   ]
  },
  {
   "cell_type": "code",
   "execution_count": 10,
   "metadata": {},
   "outputs": [
    {
     "data": {
      "text/html": [
       "<div>\n",
       "<style scoped>\n",
       "    .dataframe tbody tr th:only-of-type {\n",
       "        vertical-align: middle;\n",
       "    }\n",
       "\n",
       "    .dataframe tbody tr th {\n",
       "        vertical-align: top;\n",
       "    }\n",
       "\n",
       "    .dataframe thead th {\n",
       "        text-align: right;\n",
       "    }\n",
       "</style>\n",
       "<table border=\"1\" class=\"dataframe\">\n",
       "  <thead>\n",
       "    <tr style=\"text-align: right;\">\n",
       "      <th></th>\n",
       "      <th>Tree Species</th>\n",
       "      <th>Date</th>\n",
       "      <th>Height</th>\n",
       "    </tr>\n",
       "  </thead>\n",
       "  <tbody>\n",
       "    <tr>\n",
       "      <th>0</th>\n",
       "      <td>Blue Palo Verde</td>\n",
       "      <td>4/29/2016</td>\n",
       "      <td>33.250000</td>\n",
       "    </tr>\n",
       "    <tr>\n",
       "      <th>1</th>\n",
       "      <td>Canyon Hackberry</td>\n",
       "      <td>4/29/2016</td>\n",
       "      <td>43.000000</td>\n",
       "    </tr>\n",
       "    <tr>\n",
       "      <th>2</th>\n",
       "      <td>Catclaw Acacia</td>\n",
       "      <td>4/29/2016</td>\n",
       "      <td>49.166667</td>\n",
       "    </tr>\n",
       "    <tr>\n",
       "      <th>3</th>\n",
       "      <td>Desert Hackberry</td>\n",
       "      <td>4/29/2016</td>\n",
       "      <td>36.333333</td>\n",
       "    </tr>\n",
       "    <tr>\n",
       "      <th>4</th>\n",
       "      <td>Desert Willow</td>\n",
       "      <td>4/29/2016</td>\n",
       "      <td>41.500000</td>\n",
       "    </tr>\n",
       "    <tr>\n",
       "      <th>5</th>\n",
       "      <td>Foothills Palo Verde</td>\n",
       "      <td>4/29/2016</td>\n",
       "      <td>35.000000</td>\n",
       "    </tr>\n",
       "    <tr>\n",
       "      <th>6</th>\n",
       "      <td>Netleaf Hackberry</td>\n",
       "      <td>4/29/2016</td>\n",
       "      <td>29.000000</td>\n",
       "    </tr>\n",
       "    <tr>\n",
       "      <th>7</th>\n",
       "      <td>Screwbean Mesquite</td>\n",
       "      <td>4/29/2016</td>\n",
       "      <td>40.800000</td>\n",
       "    </tr>\n",
       "    <tr>\n",
       "      <th>8</th>\n",
       "      <td>Screwbean Mesquite/Ironwood</td>\n",
       "      <td>4/29/2016</td>\n",
       "      <td>42.000000</td>\n",
       "    </tr>\n",
       "    <tr>\n",
       "      <th>9</th>\n",
       "      <td>Sweet Acacia</td>\n",
       "      <td>4/29/2016</td>\n",
       "      <td>54.000000</td>\n",
       "    </tr>\n",
       "    <tr>\n",
       "      <th>10</th>\n",
       "      <td>Velvet Mesquite</td>\n",
       "      <td>4/29/2016</td>\n",
       "      <td>43.666667</td>\n",
       "    </tr>\n",
       "    <tr>\n",
       "      <th>11</th>\n",
       "      <td>Whitethorn Acacia</td>\n",
       "      <td>4/29/2016</td>\n",
       "      <td>43.666667</td>\n",
       "    </tr>\n",
       "    <tr>\n",
       "      <th>12</th>\n",
       "      <td>Blue Palo Verde</td>\n",
       "      <td>10/20/2016</td>\n",
       "      <td>69.750000</td>\n",
       "    </tr>\n",
       "    <tr>\n",
       "      <th>13</th>\n",
       "      <td>Canyon Hackberry</td>\n",
       "      <td>10/20/2016</td>\n",
       "      <td>83.000000</td>\n",
       "    </tr>\n",
       "    <tr>\n",
       "      <th>14</th>\n",
       "      <td>Catclaw Acacia</td>\n",
       "      <td>10/20/2016</td>\n",
       "      <td>66.875000</td>\n",
       "    </tr>\n",
       "    <tr>\n",
       "      <th>15</th>\n",
       "      <td>Desert Hackberry</td>\n",
       "      <td>10/20/2016</td>\n",
       "      <td>32.833333</td>\n",
       "    </tr>\n",
       "    <tr>\n",
       "      <th>16</th>\n",
       "      <td>Desert Willow</td>\n",
       "      <td>10/20/2016</td>\n",
       "      <td>77.000000</td>\n",
       "    </tr>\n",
       "    <tr>\n",
       "      <th>17</th>\n",
       "      <td>Foothills Palo Verde</td>\n",
       "      <td>10/20/2016</td>\n",
       "      <td>48.500000</td>\n",
       "    </tr>\n",
       "    <tr>\n",
       "      <th>18</th>\n",
       "      <td>Netleaf Hackberry</td>\n",
       "      <td>10/20/2016</td>\n",
       "      <td>83.000000</td>\n",
       "    </tr>\n",
       "    <tr>\n",
       "      <th>19</th>\n",
       "      <td>Screwbean Mesquite</td>\n",
       "      <td>10/20/2016</td>\n",
       "      <td>86.400000</td>\n",
       "    </tr>\n",
       "    <tr>\n",
       "      <th>20</th>\n",
       "      <td>Screwbean Mesquite/Ironwood</td>\n",
       "      <td>10/20/2016</td>\n",
       "      <td>40.000000</td>\n",
       "    </tr>\n",
       "    <tr>\n",
       "      <th>21</th>\n",
       "      <td>Sweet Acacia</td>\n",
       "      <td>10/20/2016</td>\n",
       "      <td>87.500000</td>\n",
       "    </tr>\n",
       "    <tr>\n",
       "      <th>22</th>\n",
       "      <td>Velvet Mesquite</td>\n",
       "      <td>10/20/2016</td>\n",
       "      <td>61.000000</td>\n",
       "    </tr>\n",
       "    <tr>\n",
       "      <th>23</th>\n",
       "      <td>Whitethorn Acacia</td>\n",
       "      <td>10/20/2016</td>\n",
       "      <td>65.666667</td>\n",
       "    </tr>\n",
       "    <tr>\n",
       "      <th>24</th>\n",
       "      <td>Blue Palo Verde</td>\n",
       "      <td>4/10/2017</td>\n",
       "      <td>67.000000</td>\n",
       "    </tr>\n",
       "    <tr>\n",
       "      <th>25</th>\n",
       "      <td>Canyon Hackberry</td>\n",
       "      <td>4/10/2017</td>\n",
       "      <td>95.000000</td>\n",
       "    </tr>\n",
       "    <tr>\n",
       "      <th>26</th>\n",
       "      <td>Catclaw Acacia</td>\n",
       "      <td>4/10/2017</td>\n",
       "      <td>59.416667</td>\n",
       "    </tr>\n",
       "    <tr>\n",
       "      <th>27</th>\n",
       "      <td>Desert Hackberry</td>\n",
       "      <td>4/10/2017</td>\n",
       "      <td>29.666667</td>\n",
       "    </tr>\n",
       "    <tr>\n",
       "      <th>28</th>\n",
       "      <td>Desert Willow</td>\n",
       "      <td>4/10/2017</td>\n",
       "      <td>77.000000</td>\n",
       "    </tr>\n",
       "    <tr>\n",
       "      <th>29</th>\n",
       "      <td>Foothills Palo Verde</td>\n",
       "      <td>4/10/2017</td>\n",
       "      <td>49.750000</td>\n",
       "    </tr>\n",
       "    <tr>\n",
       "      <th>30</th>\n",
       "      <td>Netleaf Hackberry</td>\n",
       "      <td>4/10/2017</td>\n",
       "      <td>85.000000</td>\n",
       "    </tr>\n",
       "    <tr>\n",
       "      <th>31</th>\n",
       "      <td>Screwbean Mesquite</td>\n",
       "      <td>4/10/2017</td>\n",
       "      <td>91.600000</td>\n",
       "    </tr>\n",
       "    <tr>\n",
       "      <th>32</th>\n",
       "      <td>Screwbean Mesquite/Ironwood</td>\n",
       "      <td>4/10/2017</td>\n",
       "      <td>36.000000</td>\n",
       "    </tr>\n",
       "    <tr>\n",
       "      <th>33</th>\n",
       "      <td>Sweet Acacia</td>\n",
       "      <td>4/10/2017</td>\n",
       "      <td>88.250000</td>\n",
       "    </tr>\n",
       "    <tr>\n",
       "      <th>34</th>\n",
       "      <td>Velvet Mesquite</td>\n",
       "      <td>4/10/2017</td>\n",
       "      <td>58.000000</td>\n",
       "    </tr>\n",
       "    <tr>\n",
       "      <th>35</th>\n",
       "      <td>Whitethorn Acacia</td>\n",
       "      <td>4/10/2017</td>\n",
       "      <td>54.666667</td>\n",
       "    </tr>\n",
       "    <tr>\n",
       "      <th>36</th>\n",
       "      <td>Blue Palo Verde</td>\n",
       "      <td>9/11/2017</td>\n",
       "      <td>109.000000</td>\n",
       "    </tr>\n",
       "    <tr>\n",
       "      <th>37</th>\n",
       "      <td>Canyon Hackberry</td>\n",
       "      <td>9/11/2017</td>\n",
       "      <td>88.000000</td>\n",
       "    </tr>\n",
       "    <tr>\n",
       "      <th>38</th>\n",
       "      <td>Catclaw Acacia</td>\n",
       "      <td>9/11/2017</td>\n",
       "      <td>67.750000</td>\n",
       "    </tr>\n",
       "    <tr>\n",
       "      <th>39</th>\n",
       "      <td>Desert Hackberry</td>\n",
       "      <td>9/11/2017</td>\n",
       "      <td>100.666667</td>\n",
       "    </tr>\n",
       "    <tr>\n",
       "      <th>40</th>\n",
       "      <td>Desert Willow</td>\n",
       "      <td>9/11/2017</td>\n",
       "      <td>84.750000</td>\n",
       "    </tr>\n",
       "    <tr>\n",
       "      <th>41</th>\n",
       "      <td>Foothills Palo Verde</td>\n",
       "      <td>9/11/2017</td>\n",
       "      <td>72.500000</td>\n",
       "    </tr>\n",
       "    <tr>\n",
       "      <th>42</th>\n",
       "      <td>Netleaf Hackberry</td>\n",
       "      <td>9/11/2017</td>\n",
       "      <td>61.000000</td>\n",
       "    </tr>\n",
       "    <tr>\n",
       "      <th>43</th>\n",
       "      <td>Screwbean Mesquite</td>\n",
       "      <td>9/11/2017</td>\n",
       "      <td>99.900000</td>\n",
       "    </tr>\n",
       "    <tr>\n",
       "      <th>44</th>\n",
       "      <td>Screwbean Mesquite/Ironwood</td>\n",
       "      <td>9/11/2017</td>\n",
       "      <td>NaN</td>\n",
       "    </tr>\n",
       "    <tr>\n",
       "      <th>45</th>\n",
       "      <td>Sweet Acacia</td>\n",
       "      <td>9/11/2017</td>\n",
       "      <td>109.500000</td>\n",
       "    </tr>\n",
       "    <tr>\n",
       "      <th>46</th>\n",
       "      <td>Velvet Mesquite</td>\n",
       "      <td>9/11/2017</td>\n",
       "      <td>67.000000</td>\n",
       "    </tr>\n",
       "    <tr>\n",
       "      <th>47</th>\n",
       "      <td>Whitethorn Acacia</td>\n",
       "      <td>9/11/2017</td>\n",
       "      <td>59.500000</td>\n",
       "    </tr>\n",
       "  </tbody>\n",
       "</table>\n",
       "</div>"
      ],
      "text/plain": [
       "                   Tree Species        Date      Height\n",
       "0               Blue Palo Verde   4/29/2016   33.250000\n",
       "1              Canyon Hackberry   4/29/2016   43.000000\n",
       "2                Catclaw Acacia   4/29/2016   49.166667\n",
       "3              Desert Hackberry   4/29/2016   36.333333\n",
       "4                 Desert Willow   4/29/2016   41.500000\n",
       "5          Foothills Palo Verde   4/29/2016   35.000000\n",
       "6             Netleaf Hackberry   4/29/2016   29.000000\n",
       "7            Screwbean Mesquite   4/29/2016   40.800000\n",
       "8   Screwbean Mesquite/Ironwood   4/29/2016   42.000000\n",
       "9                  Sweet Acacia   4/29/2016   54.000000\n",
       "10              Velvet Mesquite   4/29/2016   43.666667\n",
       "11            Whitethorn Acacia   4/29/2016   43.666667\n",
       "12              Blue Palo Verde  10/20/2016   69.750000\n",
       "13             Canyon Hackberry  10/20/2016   83.000000\n",
       "14               Catclaw Acacia  10/20/2016   66.875000\n",
       "15             Desert Hackberry  10/20/2016   32.833333\n",
       "16                Desert Willow  10/20/2016   77.000000\n",
       "17         Foothills Palo Verde  10/20/2016   48.500000\n",
       "18            Netleaf Hackberry  10/20/2016   83.000000\n",
       "19           Screwbean Mesquite  10/20/2016   86.400000\n",
       "20  Screwbean Mesquite/Ironwood  10/20/2016   40.000000\n",
       "21                 Sweet Acacia  10/20/2016   87.500000\n",
       "22              Velvet Mesquite  10/20/2016   61.000000\n",
       "23            Whitethorn Acacia  10/20/2016   65.666667\n",
       "24              Blue Palo Verde   4/10/2017   67.000000\n",
       "25             Canyon Hackberry   4/10/2017   95.000000\n",
       "26               Catclaw Acacia   4/10/2017   59.416667\n",
       "27             Desert Hackberry   4/10/2017   29.666667\n",
       "28                Desert Willow   4/10/2017   77.000000\n",
       "29         Foothills Palo Verde   4/10/2017   49.750000\n",
       "30            Netleaf Hackberry   4/10/2017   85.000000\n",
       "31           Screwbean Mesquite   4/10/2017   91.600000\n",
       "32  Screwbean Mesquite/Ironwood   4/10/2017   36.000000\n",
       "33                 Sweet Acacia   4/10/2017   88.250000\n",
       "34              Velvet Mesquite   4/10/2017   58.000000\n",
       "35            Whitethorn Acacia   4/10/2017   54.666667\n",
       "36              Blue Palo Verde   9/11/2017  109.000000\n",
       "37             Canyon Hackberry   9/11/2017   88.000000\n",
       "38               Catclaw Acacia   9/11/2017   67.750000\n",
       "39             Desert Hackberry   9/11/2017  100.666667\n",
       "40                Desert Willow   9/11/2017   84.750000\n",
       "41         Foothills Palo Verde   9/11/2017   72.500000\n",
       "42            Netleaf Hackberry   9/11/2017   61.000000\n",
       "43           Screwbean Mesquite   9/11/2017   99.900000\n",
       "44  Screwbean Mesquite/Ironwood   9/11/2017         NaN\n",
       "45                 Sweet Acacia   9/11/2017  109.500000\n",
       "46              Velvet Mesquite   9/11/2017   67.000000\n",
       "47            Whitethorn Acacia   9/11/2017   59.500000"
      ]
     },
     "execution_count": 10,
     "metadata": {},
     "output_type": "execute_result"
    }
   ],
   "source": [
    "sp_melt=species.melt(id_vars=['Tree Species'],value_vars=['4/29/2016','10/20/2016','4/10/2017','9/11/2017'],var_name='Date',value_name='Height')\n",
    "sp_melt"
   ]
  },
  {
   "cell_type": "code",
   "execution_count": 11,
   "metadata": {},
   "outputs": [],
   "source": [
    "sp_melt['Date']=pd.to_datetime(sp_melt['Date'])"
   ]
  },
  {
   "cell_type": "code",
   "execution_count": 12,
   "metadata": {},
   "outputs": [],
   "source": [
    "stdate=sp_melt['Date'].iloc[0]"
   ]
  },
  {
   "cell_type": "code",
   "execution_count": 13,
   "metadata": {},
   "outputs": [],
   "source": [
    "sp_melt['Days']=(sp_melt['Date']-stdate).dt.days"
   ]
  },
  {
   "cell_type": "code",
   "execution_count": 14,
   "metadata": {
    "scrolled": true
   },
   "outputs": [
    {
     "data": {
      "text/plain": [
       "['Blue Palo Verde',\n",
       " 'Canyon Hackberry',\n",
       " 'Catclaw Acacia',\n",
       " 'Desert Hackberry',\n",
       " 'Desert Willow',\n",
       " 'Foothills Palo Verde',\n",
       " 'Netleaf Hackberry',\n",
       " 'Screwbean Mesquite',\n",
       " 'Sweet Acacia',\n",
       " 'Velvet Mesquite',\n",
       " 'Whitethorn Acacia']"
      ]
     },
     "execution_count": 14,
     "metadata": {},
     "output_type": "execute_result"
    }
   ],
   "source": [
    "sp_list=np.unique(sp_melt['Tree Species'])\n",
    "sp_list=[sp for sp in sp_list if sp!='Screwbean Mesquite/Ironwood']\n",
    "sp_list\n",
    "#plt_list=[]"
   ]
  },
  {
   "cell_type": "code",
   "execution_count": 15,
   "metadata": {},
   "outputs": [
    {
     "data": {
      "text/html": [
       "<div>\n",
       "<style scoped>\n",
       "    .dataframe tbody tr th:only-of-type {\n",
       "        vertical-align: middle;\n",
       "    }\n",
       "\n",
       "    .dataframe tbody tr th {\n",
       "        vertical-align: top;\n",
       "    }\n",
       "\n",
       "    .dataframe thead th {\n",
       "        text-align: right;\n",
       "    }\n",
       "</style>\n",
       "<table border=\"1\" class=\"dataframe\">\n",
       "  <thead>\n",
       "    <tr style=\"text-align: right;\">\n",
       "      <th></th>\n",
       "      <th>Tree Species</th>\n",
       "      <th>Date</th>\n",
       "      <th>Height</th>\n",
       "      <th>Days</th>\n",
       "    </tr>\n",
       "  </thead>\n",
       "  <tbody>\n",
       "    <tr>\n",
       "      <th>0</th>\n",
       "      <td>Blue Palo Verde</td>\n",
       "      <td>2016-04-29</td>\n",
       "      <td>33.25</td>\n",
       "      <td>0</td>\n",
       "    </tr>\n",
       "    <tr>\n",
       "      <th>12</th>\n",
       "      <td>Blue Palo Verde</td>\n",
       "      <td>2016-10-20</td>\n",
       "      <td>69.75</td>\n",
       "      <td>174</td>\n",
       "    </tr>\n",
       "    <tr>\n",
       "      <th>24</th>\n",
       "      <td>Blue Palo Verde</td>\n",
       "      <td>2017-04-10</td>\n",
       "      <td>67.00</td>\n",
       "      <td>346</td>\n",
       "    </tr>\n",
       "    <tr>\n",
       "      <th>36</th>\n",
       "      <td>Blue Palo Verde</td>\n",
       "      <td>2017-09-11</td>\n",
       "      <td>109.00</td>\n",
       "      <td>500</td>\n",
       "    </tr>\n",
       "  </tbody>\n",
       "</table>\n",
       "</div>"
      ],
      "text/plain": [
       "       Tree Species       Date  Height  Days\n",
       "0   Blue Palo Verde 2016-04-29   33.25     0\n",
       "12  Blue Palo Verde 2016-10-20   69.75   174\n",
       "24  Blue Palo Verde 2017-04-10   67.00   346\n",
       "36  Blue Palo Verde 2017-09-11  109.00   500"
      ]
     },
     "execution_count": 15,
     "metadata": {},
     "output_type": "execute_result"
    }
   ],
   "source": [
    "mask=sp_melt['Tree Species']==sp_list[0]\n",
    "bpv=sp_melt[mask]\n",
    "bpv"
   ]
  },
  {
   "cell_type": "code",
   "execution_count": 16,
   "metadata": {},
   "outputs": [],
   "source": [
    "bpv_model = ols(\"Height ~ Days\", data=bpv).fit()"
   ]
  },
  {
   "cell_type": "code",
   "execution_count": 17,
   "metadata": {},
   "outputs": [
    {
     "name": "stderr",
     "output_type": "stream",
     "text": [
      "C:\\ProgramData\\Anaconda3\\envs\\teach\\lib\\site-packages\\statsmodels\\stats\\stattools.py:71: ValueWarning:\n",
      "\n",
      "omni_normtest is not valid with less than 8 observations; 4 samples were given.\n",
      "\n"
     ]
    },
    {
     "data": {
      "text/html": [
       "<table class=\"simpletable\">\n",
       "<caption>OLS Regression Results</caption>\n",
       "<tr>\n",
       "  <th>Dep. Variable:</th>         <td>Height</td>      <th>  R-squared:         </th> <td>   0.865</td>\n",
       "</tr>\n",
       "<tr>\n",
       "  <th>Model:</th>                   <td>OLS</td>       <th>  Adj. R-squared:    </th> <td>   0.798</td>\n",
       "</tr>\n",
       "<tr>\n",
       "  <th>Method:</th>             <td>Least Squares</td>  <th>  F-statistic:       </th> <td>   12.86</td>\n",
       "</tr>\n",
       "<tr>\n",
       "  <th>Date:</th>             <td>Thu, 07 Nov 2019</td> <th>  Prob (F-statistic):</th>  <td>0.0697</td> \n",
       "</tr>\n",
       "<tr>\n",
       "  <th>Time:</th>                 <td>20:58:47</td>     <th>  Log-Likelihood:    </th> <td> -14.824</td>\n",
       "</tr>\n",
       "<tr>\n",
       "  <th>No. Observations:</th>      <td>     4</td>      <th>  AIC:               </th> <td>   33.65</td>\n",
       "</tr>\n",
       "<tr>\n",
       "  <th>Df Residuals:</th>          <td>     2</td>      <th>  BIC:               </th> <td>   32.42</td>\n",
       "</tr>\n",
       "<tr>\n",
       "  <th>Df Model:</th>              <td>     1</td>      <th>                     </th>     <td> </td>   \n",
       "</tr>\n",
       "<tr>\n",
       "  <th>Covariance Type:</th>      <td>nonrobust</td>    <th>                     </th>     <td> </td>   \n",
       "</tr>\n",
       "</table>\n",
       "<table class=\"simpletable\">\n",
       "<tr>\n",
       "      <td></td>         <th>coef</th>     <th>std err</th>      <th>t</th>      <th>P>|t|</th>  <th>[0.025</th>    <th>0.975]</th>  \n",
       "</tr>\n",
       "<tr>\n",
       "  <th>Intercept</th> <td>   35.7113</td> <td>   11.772</td> <td>    3.034</td> <td> 0.094</td> <td>  -14.940</td> <td>   86.363</td>\n",
       "</tr>\n",
       "<tr>\n",
       "  <th>Days</th>      <td>    0.1335</td> <td>    0.037</td> <td>    3.586</td> <td> 0.070</td> <td>   -0.027</td> <td>    0.294</td>\n",
       "</tr>\n",
       "</table>\n",
       "<table class=\"simpletable\">\n",
       "<tr>\n",
       "  <th>Omnibus:</th>       <td>   nan</td> <th>  Durbin-Watson:     </th> <td>   3.345</td>\n",
       "</tr>\n",
       "<tr>\n",
       "  <th>Prob(Omnibus):</th> <td>   nan</td> <th>  Jarque-Bera (JB):  </th> <td>   0.416</td>\n",
       "</tr>\n",
       "<tr>\n",
       "  <th>Skew:</th>          <td>-0.465</td> <th>  Prob(JB):          </th> <td>   0.812</td>\n",
       "</tr>\n",
       "<tr>\n",
       "  <th>Kurtosis:</th>      <td> 1.724</td> <th>  Cond. No.          </th> <td>    535.</td>\n",
       "</tr>\n",
       "</table><br/><br/>Warnings:<br/>[1] Standard Errors assume that the covariance matrix of the errors is correctly specified."
      ],
      "text/plain": [
       "<class 'statsmodels.iolib.summary.Summary'>\n",
       "\"\"\"\n",
       "                            OLS Regression Results                            \n",
       "==============================================================================\n",
       "Dep. Variable:                 Height   R-squared:                       0.865\n",
       "Model:                            OLS   Adj. R-squared:                  0.798\n",
       "Method:                 Least Squares   F-statistic:                     12.86\n",
       "Date:                Thu, 07 Nov 2019   Prob (F-statistic):             0.0697\n",
       "Time:                        20:58:47   Log-Likelihood:                -14.824\n",
       "No. Observations:                   4   AIC:                             33.65\n",
       "Df Residuals:                       2   BIC:                             32.42\n",
       "Df Model:                           1                                         \n",
       "Covariance Type:            nonrobust                                         \n",
       "==============================================================================\n",
       "                 coef    std err          t      P>|t|      [0.025      0.975]\n",
       "------------------------------------------------------------------------------\n",
       "Intercept     35.7113     11.772      3.034      0.094     -14.940      86.363\n",
       "Days           0.1335      0.037      3.586      0.070      -0.027       0.294\n",
       "==============================================================================\n",
       "Omnibus:                          nan   Durbin-Watson:                   3.345\n",
       "Prob(Omnibus):                    nan   Jarque-Bera (JB):                0.416\n",
       "Skew:                          -0.465   Prob(JB):                        0.812\n",
       "Kurtosis:                       1.724   Cond. No.                         535.\n",
       "==============================================================================\n",
       "\n",
       "Warnings:\n",
       "[1] Standard Errors assume that the covariance matrix of the errors is correctly specified.\n",
       "\"\"\""
      ]
     },
     "execution_count": 17,
     "metadata": {},
     "output_type": "execute_result"
    }
   ],
   "source": [
    "bpv_model.summary()"
   ]
  },
  {
   "cell_type": "code",
   "execution_count": 18,
   "metadata": {},
   "outputs": [
    {
     "data": {
      "text/plain": [
       "Intercept    35.711295\n",
       "Days          0.133485\n",
       "dtype: float64"
      ]
     },
     "execution_count": 18,
     "metadata": {},
     "output_type": "execute_result"
    }
   ],
   "source": [
    "bpv_model.params"
   ]
  },
  {
   "cell_type": "code",
   "execution_count": 19,
   "metadata": {},
   "outputs": [],
   "source": [
    "xline=np.linspace(-100,700,100)\n",
    "yline=bpv_model.params.Days*xline+bpv_model.params.Intercept"
   ]
  },
  {
   "cell_type": "code",
   "execution_count": 20,
   "metadata": {},
   "outputs": [
    {
     "data": {
      "image/png": "[encoded data removed]",
      "text/plain": [
       "<Figure size 432x288 with 1 Axes>"
      ]
     },
     "metadata": {
      "needs_background": "light"
     },
     "output_type": "display_data"
    }
   ],
   "source": [
    "fig=plt.figure()\n",
    "plt.scatter(bpv['Days'],bpv['Height'])\n",
    "plt.plot(xline,yline)\n",
    "plt.show()"
   ]
  },
  {
   "cell_type": "code",
   "execution_count": 21,
   "metadata": {},
   "outputs": [],
   "source": [
    "reg=LinearRegression()"
   ]
  },
  {
   "cell_type": "code",
   "execution_count": 22,
   "metadata": {},
   "outputs": [],
   "source": [
    "X=bpv['Days'].values.reshape(-1,1)\n",
    "y=bpv['Height'].values.reshape(-1,1)"
   ]
  },
  {
   "cell_type": "code",
   "execution_count": 23,
   "metadata": {},
   "outputs": [
    {
     "data": {
      "text/plain": [
       "LinearRegression(copy_X=True, fit_intercept=True, n_jobs=None, normalize=False)"
      ]
     },
     "execution_count": 23,
     "metadata": {},
     "output_type": "execute_result"
    }
   ],
   "source": [
    "reg.fit(X,y)"
   ]
  },
  {
   "cell_type": "code",
   "execution_count": 24,
   "metadata": {},
   "outputs": [],
   "source": [
    "ysp=reg.predict(xline.reshape(-1,1))"
   ]
  },
  {
   "cell_type": "code",
   "execution_count": 25,
   "metadata": {},
   "outputs": [
    {
     "data": {
      "image/png": "[encoded data removed]",
      "text/plain": [
       "<Figure size 432x288 with 1 Axes>"
      ]
     },
     "metadata": {
      "needs_background": "light"
     },
     "output_type": "display_data"
    }
   ],
   "source": [
    "fig=plt.figure()\n",
    "plt.scatter(bpv['Days'],bpv['Height'])\n",
    "plt.plot(xline,ysp)\n",
    "plt.show()"
   ]
  },
  {
   "cell_type": "code",
   "execution_count": 26,
   "metadata": {},
   "outputs": [],
   "source": [
    "def sp_frame(sp):\n",
    "    return sp_melt[sp_melt['Tree Species']==sp]\n",
    "def regress(spdf):\n",
    "    X=spdf['Days'].values.reshape(-1,1)\n",
    "    y=spdf['Height'].values.reshape(-1,1)\n",
    "    reg=LinearRegression()\n",
    "    reg.fit(X,y)\n",
    "    return reg"
   ]
  },
  {
   "cell_type": "code",
   "execution_count": 27,
   "metadata": {},
   "outputs": [],
   "source": [
    "sp_regs={sp:{'frame':sp_frame(sp),'reg':regress(sp_frame(sp))} for sp in sp_list}"
   ]
  },
  {
   "cell_type": "code",
   "execution_count": 28,
   "metadata": {},
   "outputs": [
    {
     "data": {
      "text/plain": [
       "{'Blue Palo Verde': {'frame':        Tree Species       Date  Height  Days\n",
       "  0   Blue Palo Verde 2016-04-29   33.25     0\n",
       "  12  Blue Palo Verde 2016-10-20   69.75   174\n",
       "  24  Blue Palo Verde 2017-04-10   67.00   346\n",
       "  36  Blue Palo Verde 2017-09-11  109.00   500,\n",
       "  'reg': LinearRegression(copy_X=True, fit_intercept=True, n_jobs=None, normalize=False)},\n",
       " 'Canyon Hackberry': {'frame':         Tree Species       Date  Height  Days\n",
       "  1   Canyon Hackberry 2016-04-29    43.0     0\n",
       "  13  Canyon Hackberry 2016-10-20    83.0   174\n",
       "  25  Canyon Hackberry 2017-04-10    95.0   346\n",
       "  37  Canyon Hackberry 2017-09-11    88.0   500,\n",
       "  'reg': LinearRegression(copy_X=True, fit_intercept=True, n_jobs=None, normalize=False)},\n",
       " 'Catclaw Acacia': {'frame':       Tree Species       Date     Height  Days\n",
       "  2   Catclaw Acacia 2016-04-29  49.166667     0\n",
       "  14  Catclaw Acacia 2016-10-20  66.875000   174\n",
       "  26  Catclaw Acacia 2017-04-10  59.416667   346\n",
       "  38  Catclaw Acacia 2017-09-11  67.750000   500,\n",
       "  'reg': LinearRegression(copy_X=True, fit_intercept=True, n_jobs=None, normalize=False)},\n",
       " 'Desert Hackberry': {'frame':         Tree Species       Date      Height  Days\n",
       "  3   Desert Hackberry 2016-04-29   36.333333     0\n",
       "  15  Desert Hackberry 2016-10-20   32.833333   174\n",
       "  27  Desert Hackberry 2017-04-10   29.666667   346\n",
       "  39  Desert Hackberry 2017-09-11  100.666667   500,\n",
       "  'reg': LinearRegression(copy_X=True, fit_intercept=True, n_jobs=None, normalize=False)},\n",
       " 'Desert Willow': {'frame':      Tree Species       Date  Height  Days\n",
       "  4   Desert Willow 2016-04-29   41.50     0\n",
       "  16  Desert Willow 2016-10-20   77.00   174\n",
       "  28  Desert Willow 2017-04-10   77.00   346\n",
       "  40  Desert Willow 2017-09-11   84.75   500,\n",
       "  'reg': LinearRegression(copy_X=True, fit_intercept=True, n_jobs=None, normalize=False)},\n",
       " 'Foothills Palo Verde': {'frame':             Tree Species       Date  Height  Days\n",
       "  5   Foothills Palo Verde 2016-04-29   35.00     0\n",
       "  17  Foothills Palo Verde 2016-10-20   48.50   174\n",
       "  29  Foothills Palo Verde 2017-04-10   49.75   346\n",
       "  41  Foothills Palo Verde 2017-09-11   72.50   500,\n",
       "  'reg': LinearRegression(copy_X=True, fit_intercept=True, n_jobs=None, normalize=False)},\n",
       " 'Netleaf Hackberry': {'frame':          Tree Species       Date  Height  Days\n",
       "  6   Netleaf Hackberry 2016-04-29    29.0     0\n",
       "  18  Netleaf Hackberry 2016-10-20    83.0   174\n",
       "  30  Netleaf Hackberry 2017-04-10    85.0   346\n",
       "  42  Netleaf Hackberry 2017-09-11    61.0   500,\n",
       "  'reg': LinearRegression(copy_X=True, fit_intercept=True, n_jobs=None, normalize=False)},\n",
       " 'Screwbean Mesquite': {'frame':           Tree Species       Date  Height  Days\n",
       "  7   Screwbean Mesquite 2016-04-29    40.8     0\n",
       "  19  Screwbean Mesquite 2016-10-20    86.4   174\n",
       "  31  Screwbean Mesquite 2017-04-10    91.6   346\n",
       "  43  Screwbean Mesquite 2017-09-11    99.9   500,\n",
       "  'reg': LinearRegression(copy_X=True, fit_intercept=True, n_jobs=None, normalize=False)},\n",
       " 'Sweet Acacia': {'frame':     Tree Species       Date  Height  Days\n",
       "  9   Sweet Acacia 2016-04-29   54.00     0\n",
       "  21  Sweet Acacia 2016-10-20   87.50   174\n",
       "  33  Sweet Acacia 2017-04-10   88.25   346\n",
       "  45  Sweet Acacia 2017-09-11  109.50   500,\n",
       "  'reg': LinearRegression(copy_X=True, fit_intercept=True, n_jobs=None, normalize=False)},\n",
       " 'Velvet Mesquite': {'frame':        Tree Species       Date     Height  Days\n",
       "  10  Velvet Mesquite 2016-04-29  43.666667     0\n",
       "  22  Velvet Mesquite 2016-10-20  61.000000   174\n",
       "  34  Velvet Mesquite 2017-04-10  58.000000   346\n",
       "  46  Velvet Mesquite 2017-09-11  67.000000   500,\n",
       "  'reg': LinearRegression(copy_X=True, fit_intercept=True, n_jobs=None, normalize=False)},\n",
       " 'Whitethorn Acacia': {'frame':          Tree Species       Date     Height  Days\n",
       "  11  Whitethorn Acacia 2016-04-29  43.666667     0\n",
       "  23  Whitethorn Acacia 2016-10-20  65.666667   174\n",
       "  35  Whitethorn Acacia 2017-04-10  54.666667   346\n",
       "  47  Whitethorn Acacia 2017-09-11  59.500000   500,\n",
       "  'reg': LinearRegression(copy_X=True, fit_intercept=True, n_jobs=None, normalize=False)}}"
      ]
     },
     "execution_count": 28,
     "metadata": {},
     "output_type": "execute_result"
    }
   ],
   "source": [
    "sp_regs"
   ]
  },
  {
   "cell_type": "code",
   "execution_count": 39,
   "metadata": {},
   "outputs": [],
   "source": [
    "def response(change):\n",
    "    sp=drop.value\n",
    "    with fig.batch_update():\n",
    "        fig.data[0].x=sp_regs[sp]['frame'].Days.values\n",
    "        fig.data[0].y=sp_regs[sp]['frame'].Height.values\n",
    "        "
   ]
  },
  {
   "cell_type": "code",
   "execution_count": 40,
   "metadata": {
    "scrolled": true
   },
   "outputs": [
    {
     "data": {
      "application/vnd.jupyter.widget-view+json": {
       "model_id": "4aed7c11a4ce45df9fa209736131ade7",
       "version_major": 2,
       "version_minor": 0
      },
      "text/plain": [
       "VBox(children=(Dropdown(options=('Blue Palo Verde', 'Canyon Hackberry', 'Catclaw Acacia', 'Desert Hackberry', …"
      ]
     },
     "metadata": {},
     "output_type": "display_data"
    }
   ],
   "source": [
    "drop=widgets.Dropdown(options=sp_list)\n",
    "scatter=go.Scatter(x=sp_regs['Blue Palo Verde']['frame'].Days.values,\n",
    "                   y=sp_regs['Blue Palo Verde']['frame'].Height.values,mode='markers')\n",
    "fig=go.FigureWidget(data=scatter)\n",
    "drop.observe(response,names='value')\n",
    "widgets.VBox([drop,fig])"
   ]
  },
  {
   "cell_type": "code",
   "execution_count": 93,
   "metadata": {},
   "outputs": [
    {
     "data": {
      "text/plain": [
       "array([ 33.25,  69.75,  67.  , 109.  ])"
      ]
     },
     "execution_count": 93,
     "metadata": {},
     "output_type": "execute_result"
    }
   ],
   "source": [
    "sp_regs['Blue Palo Verde']['frame'].Height.values"
   ]
  },
  {
   "cell_type": "code",
   "execution_count": 110,
   "metadata": {},
   "outputs": [
    {
     "name": "stderr",
     "output_type": "stream",
     "text": [
      "C:\\ProgramData\\Anaconda3\\envs\\teach\\lib\\site-packages\\numpy\\core\\fromnumeric.py:2495: FutureWarning:\n",
      "\n",
      "Method .ptp is deprecated and will be removed in a future version. Use numpy.ptp instead.\n",
      "\n"
     ]
    },
    {
     "data": {
      "application/vnd.plotly.v1+json": {
       "config": {
        "plotlyServerURL": "https://plot.ly"
       },
       "data": [
        {
         "hoverlabel": {
          "namelength": 0
         },
         "hovertemplate": "Tree Species=Blue Palo Verde<br>Days=%{x}<br>Height=%{y}",
         "legendgroup": "Tree Species=Blue Palo Verde",
         "marker": {
          "color": "#636efa",
          "symbol": "circle"
         },
         "mode": "markers",
         "name": "Tree Species=Blue Palo Verde",
         "showlegend": true,
         "type": "scatter",
         "x": [
          0,
          174,
          346,
          500
         ],
         "xaxis": "x",
         "y": [
          33.25,
          69.75,
          67,
          109
         ],
         "yaxis": "y"
        },
        {
         "hoverlabel": {
          "namelength": 0
         },
         "hovertemplate": "<b>OLS trendline</b><br>Height = 0.133485 * Days + 35.711295<br>R<sup>2</sup>=0.865385<br><br>Tree Species=Blue Palo Verde<br>Days=%{x}<br>Height=%{y} <b>(trend)</b>",
         "legendgroup": "Tree Species=Blue Palo Verde",
         "marker": {
          "color": "#636efa",
          "symbol": "circle"
         },
         "mode": "lines",
         "name": "Tree Species=Blue Palo Verde",
         "showlegend": false,
         "type": "scatter",
         "x": [
          0,
          174,
          346,
          500
         ],
         "xaxis": "x",
         "y": [
          35.71129514196666,
          58.93770551568352,
          81.89714565521973,
          102.45385368713005
         ],
         "yaxis": "y"
        },
        {
         "hoverlabel": {
          "namelength": 0
         },
         "hovertemplate": "Tree Species=Canyon Hackberry<br>Days=%{x}<br>Height=%{y}",
         "legendgroup": "Tree Species=Canyon Hackberry",
         "marker": {
          "color": "#EF553B",
          "symbol": "circle"
         },
         "mode": "markers",
         "name": "Tree Species=Canyon Hackberry",
         "showlegend": true,
         "type": "scatter",
         "x": [
          0,
          174,
          346,
          500
         ],
         "xaxis": "x",
         "y": [
          43,
          83,
          95,
          88
         ],
         "yaxis": "y"
        },
        {
         "hoverlabel": {
          "namelength": 0
         },
         "hovertemplate": "<b>OLS trendline</b><br>Height = 0.089476 * Days + 54.433577<br>R<sup>2</sup>=0.684266<br><br>Tree Species=Canyon Hackberry<br>Days=%{x}<br>Height=%{y} <b>(trend)</b>",
         "legendgroup": "Tree Species=Canyon Hackberry",
         "marker": {
          "color": "#EF553B",
          "symbol": "circle"
         },
         "mode": "lines",
         "name": "Tree Species=Canyon Hackberry",
         "showlegend": false,
         "type": "scatter",
         "x": [
          0,
          174,
          346,
          500
         ],
         "xaxis": "x",
         "y": [
          54.433577331083974,
          70.0024304463443,
          85.39233122694648,
          99.17166099562517
         ],
         "yaxis": "y"
        },
        {
         "hoverlabel": {
          "namelength": 0
         },
         "hovertemplate": "Tree Species=Catclaw Acacia<br>Days=%{x}<br>Height=%{y}",
         "legendgroup": "Tree Species=Catclaw Acacia",
         "marker": {
          "color": "#00cc96",
          "symbol": "circle"
         },
         "mode": "markers",
         "name": "Tree Species=Catclaw Acacia",
         "showlegend": true,
         "type": "scatter",
         "x": [
          0,
          174,
          346,
          500
         ],
         "xaxis": "x",
         "y": [
          49.166666666666664,
          66.875,
          59.416666666666664,
          67.75
         ],
         "yaxis": "y"
        },
        {
         "hoverlabel": {
          "namelength": 0
         },
         "hovertemplate": "<b>OLS trendline</b><br>Height = 0.028960 * Days + 53.417248<br>R<sup>2</sup>=0.527412<br><br>Tree Species=Catclaw Acacia<br>Days=%{x}<br>Height=%{y} <b>(trend)</b>",
         "legendgroup": "Tree Species=Catclaw Acacia",
         "marker": {
          "color": "#00cc96",
          "symbol": "circle"
         },
         "mode": "lines",
         "name": "Tree Species=Catclaw Acacia",
         "showlegend": false,
         "type": "scatter",
         "x": [
          0,
          174,
          346,
          500
         ],
         "xaxis": "x",
         "y": [
          53.41724806755687,
          58.456312131263154,
          63.43745591837511,
          67.89731721613813
         ],
         "yaxis": "y"
        },
        {
         "hoverlabel": {
          "namelength": 0
         },
         "hovertemplate": "Tree Species=Desert Hackberry<br>Days=%{x}<br>Height=%{y}",
         "legendgroup": "Tree Species=Desert Hackberry",
         "marker": {
          "color": "#ab63fa",
          "symbol": "circle"
         },
         "mode": "markers",
         "name": "Tree Species=Desert Hackberry",
         "showlegend": true,
         "type": "scatter",
         "x": [
          0,
          174,
          346,
          500
         ],
         "xaxis": "x",
         "y": [
          36.333333333333336,
          32.833333333333336,
          29.666666666666668,
          100.66666666666667
         ],
         "yaxis": "y"
        },
        {
         "hoverlabel": {
          "namelength": 0
         },
         "hovertemplate": "<b>OLS trendline</b><br>Height = 0.110360 * Days + 21.733166<br>R<sup>2</sup>=0.492147<br><br>Tree Species=Desert Hackberry<br>Days=%{x}<br>Height=%{y} <b>(trend)</b>",
         "legendgroup": "Tree Species=Desert Hackberry",
         "marker": {
          "color": "#ab63fa",
          "symbol": "circle"
         },
         "mode": "lines",
         "name": "Tree Species=Desert Hackberry",
         "showlegend": false,
         "type": "scatter",
         "x": [
          0,
          174,
          346,
          500
         ],
         "xaxis": "x",
         "y": [
          21.73316558487976,
          40.93582906813827,
          59.917772281474264,
          76.91323306550765
         ],
         "yaxis": "y"
        },
        {
         "hoverlabel": {
          "namelength": 0
         },
         "hovertemplate": "Tree Species=Desert Willow<br>Days=%{x}<br>Height=%{y}",
         "legendgroup": "Tree Species=Desert Willow",
         "marker": {
          "color": "#FFA15A",
          "symbol": "circle"
         },
         "mode": "markers",
         "name": "Tree Species=Desert Willow",
         "showlegend": true,
         "type": "scatter",
         "x": [
          0,
          174,
          346,
          500
         ],
         "xaxis": "x",
         "y": [
          41.5,
          77,
          77,
          84.75
         ],
         "yaxis": "y"
        },
        {
         "hoverlabel": {
          "namelength": 0
         },
         "hovertemplate": "<b>OLS trendline</b><br>Height = 0.078284 * Days + 50.100181<br>R<sup>2</sup>=0.760158<br><br>Tree Species=Desert Willow<br>Days=%{x}<br>Height=%{y} <b>(trend)</b>",
         "legendgroup": "Tree Species=Desert Willow",
         "marker": {
          "color": "#FFA15A",
          "symbol": "circle"
         },
         "mode": "lines",
         "name": "Tree Species=Desert Willow",
         "showlegend": false,
         "type": "scatter",
         "x": [
          0,
          174,
          346,
          500
         ],
         "xaxis": "x",
         "y": [
          50.100180853801504,
          63.72152803591341,
          77.18630800903553,
          89.24198310124952
         ],
         "yaxis": "y"
        },
        {
         "hoverlabel": {
          "namelength": 0
         },
         "hovertemplate": "Tree Species=Foothills Palo Verde<br>Days=%{x}<br>Height=%{y}",
         "legendgroup": "Tree Species=Foothills Palo Verde",
         "marker": {
          "color": "#19d3f3",
          "symbol": "circle"
         },
         "mode": "markers",
         "name": "Tree Species=Foothills Palo Verde",
         "showlegend": true,
         "type": "scatter",
         "x": [
          0,
          174,
          346,
          500
         ],
         "xaxis": "x",
         "y": [
          35,
          48.5,
          49.75,
          72.5
         ],
         "yaxis": "y"
        },
        {
         "hoverlabel": {
          "namelength": 0
         },
         "hovertemplate": "<b>OLS trendline</b><br>Height = 0.067454 * Days + 34.236776<br>R<sup>2</sup>=0.877587<br><br>Tree Species=Foothills Palo Verde<br>Days=%{x}<br>Height=%{y} <b>(trend)</b>",
         "legendgroup": "Tree Species=Foothills Palo Verde",
         "marker": {
          "color": "#19d3f3",
          "symbol": "circle"
         },
         "mode": "lines",
         "name": "Tree Species=Foothills Palo Verde",
         "showlegend": false,
         "type": "scatter",
         "x": [
          0,
          174,
          346,
          500
         ],
         "xaxis": "x",
         "y": [
          34.236775512538244,
          45.973740456923906,
          57.57579775827065,
          67.96368627226717
         ],
         "yaxis": "y"
        },
        {
         "hoverlabel": {
          "namelength": 0
         },
         "hovertemplate": "Tree Species=Netleaf Hackberry<br>Days=%{x}<br>Height=%{y}",
         "legendgroup": "Tree Species=Netleaf Hackberry",
         "marker": {
          "color": "#FF6692",
          "symbol": "circle"
         },
         "mode": "markers",
         "name": "Tree Species=Netleaf Hackberry",
         "showlegend": true,
         "type": "scatter",
         "x": [
          0,
          174,
          346,
          500
         ],
         "xaxis": "x",
         "y": [
          29,
          83,
          85,
          61
         ],
         "yaxis": "y"
        },
        {
         "hoverlabel": {
          "namelength": 0
         },
         "hovertemplate": "<b>OLS trendline</b><br>Height = 0.061204 * Days + 48.892889<br>R<sup>2</sup>=0.257509<br><br>Tree Species=Netleaf Hackberry<br>Days=%{x}<br>Height=%{y} <b>(trend)</b>",
         "legendgroup": "Tree Species=Netleaf Hackberry",
         "marker": {
          "color": "#FF6692",
          "symbol": "circle"
         },
         "mode": "lines",
         "name": "Tree Species=Netleaf Hackberry",
         "showlegend": false,
         "type": "scatter",
         "x": [
          0,
          174,
          346,
          500
         ],
         "xaxis": "x",
         "y": [
          48.89288879993137,
          59.54244703056642,
          70.06959654590682,
          79.49506762359532
         ],
         "yaxis": "y"
        },
        {
         "hoverlabel": {
          "namelength": 0
         },
         "hovertemplate": "Tree Species=Screwbean Mesquite<br>Days=%{x}<br>Height=%{y}",
         "legendgroup": "Tree Species=Screwbean Mesquite",
         "marker": {
          "color": "#B6E880",
          "symbol": "circle"
         },
         "mode": "markers",
         "name": "Tree Species=Screwbean Mesquite",
         "showlegend": true,
         "type": "scatter",
         "x": [
          0,
          174,
          346,
          500
         ],
         "xaxis": "x",
         "y": [
          40.8,
          86.4,
          91.6,
          99.9
         ],
         "yaxis": "y"
        },
        {
         "hoverlabel": {
          "namelength": 0
         },
         "hovertemplate": "<b>OLS trendline</b><br>Height = 0.110147 * Days + 51.587486<br>R<sup>2</sup>=0.805231<br><br>Tree Species=Screwbean Mesquite<br>Days=%{x}<br>Height=%{y} <b>(trend)</b>",
         "legendgroup": "Tree Species=Screwbean Mesquite",
         "marker": {
          "color": "#B6E880",
          "symbol": "circle"
         },
         "mode": "lines",
         "name": "Tree Species=Screwbean Mesquite",
         "showlegend": false,
         "type": "scatter",
         "x": [
          0,
          174,
          346,
          500
         ],
         "xaxis": "x",
         "y": [
          51.587486060675374,
          70.75308380750865,
          89.6983873273668,
          106.66104280444912
         ],
         "yaxis": "y"
        },
        {
         "hoverlabel": {
          "namelength": 0
         },
         "hovertemplate": "Tree Species=Screwbean Mesquite/Ironwood<br>Days=%{x}<br>Height=%{y}",
         "legendgroup": "Tree Species=Screwbean Mesquite/Ironwood",
         "marker": {
          "color": "#FF97FF",
          "symbol": "circle"
         },
         "mode": "markers",
         "name": "Tree Species=Screwbean Mesquite/Ironwood",
         "showlegend": true,
         "type": "scatter",
         "x": [
          0,
          174,
          346,
          500
         ],
         "xaxis": "x",
         "y": [
          42,
          40,
          36,
          null
         ],
         "yaxis": "y"
        },
        {
         "hoverlabel": {
          "namelength": 0
         },
         "hovertemplate": "<b>OLS trendline</b><br>Height = nan * Days + nan<br>R<sup>2</sup>=nan<br><br>Tree Species=Screwbean Mesquite/Ironwood<br>Days=%{x}<br>Height=%{y} <b>(trend)</b>",
         "legendgroup": "Tree Species=Screwbean Mesquite/Ironwood",
         "marker": {
          "color": "#FF97FF",
          "symbol": "circle"
         },
         "mode": "lines",
         "name": "Tree Species=Screwbean Mesquite/Ironwood",
         "showlegend": false,
         "type": "scatter",
         "x": [
          0,
          174,
          346,
          500
         ],
         "xaxis": "x",
         "y": [
          null,
          null,
          null,
          null
         ],
         "yaxis": "y"
        },
        {
         "hoverlabel": {
          "namelength": 0
         },
         "hovertemplate": "Tree Species=Sweet Acacia<br>Days=%{x}<br>Height=%{y}",
         "legendgroup": "Tree Species=Sweet Acacia",
         "marker": {
          "color": "#FECB52",
          "symbol": "circle"
         },
         "mode": "markers",
         "name": "Tree Species=Sweet Acacia",
         "showlegend": true,
         "type": "scatter",
         "x": [
          0,
          174,
          346,
          500
         ],
         "xaxis": "x",
         "y": [
          54,
          87.5,
          88.25,
          109.5
         ],
         "yaxis": "y"
        },
        {
         "hoverlabel": {
          "namelength": 0
         },
         "hovertemplate": "<b>OLS trendline</b><br>Height = 0.100083 * Days + 59.291446<br>R<sup>2</sup>=0.888023<br><br>Tree Species=Sweet Acacia<br>Days=%{x}<br>Height=%{y} <b>(trend)</b>",
         "legendgroup": "Tree Species=Sweet Acacia",
         "marker": {
          "color": "#FECB52",
          "symbol": "circle"
         },
         "mode": "lines",
         "name": "Tree Species=Sweet Acacia",
         "showlegend": false,
         "type": "scatter",
         "x": [
          0,
          174,
          346,
          500
         ],
         "xaxis": "x",
         "y": [
          59.291446258542294,
          76.70581234094871,
          93.92001329597116,
          109.33272810453775
         ],
         "yaxis": "y"
        },
        {
         "hoverlabel": {
          "namelength": 0
         },
         "hovertemplate": "Tree Species=Velvet Mesquite<br>Days=%{x}<br>Height=%{y}",
         "legendgroup": "Tree Species=Velvet Mesquite",
         "marker": {
          "color": "#636efa",
          "symbol": "circle"
         },
         "mode": "markers",
         "name": "Tree Species=Velvet Mesquite",
         "showlegend": true,
         "type": "scatter",
         "x": [
          0,
          174,
          346,
          500
         ],
         "xaxis": "x",
         "y": [
          43.666666666666664,
          61,
          58,
          67
         ],
         "yaxis": "y"
        },
        {
         "hoverlabel": {
          "namelength": 0
         },
         "hovertemplate": "<b>OLS trendline</b><br>Height = 0.040152 * Days + 47.177804<br>R<sup>2</sup>=0.766912<br><br>Tree Species=Velvet Mesquite<br>Days=%{x}<br>Height=%{y} <b>(trend)</b>",
         "legendgroup": "Tree Species=Velvet Mesquite",
         "marker": {
          "color": "#636efa",
          "symbol": "circle"
         },
         "mode": "lines",
         "name": "Tree Species=Velvet Mesquite",
         "showlegend": false,
         "type": "scatter",
         "x": [
          0,
          174,
          346,
          500
         ],
         "xaxis": "x",
         "y": [
          47.17780382962094,
          54.164322000781546,
          61.07053536537709,
          67.25400547088705
         ],
         "yaxis": "y"
        },
        {
         "hoverlabel": {
          "namelength": 0
         },
         "hovertemplate": "Tree Species=Whitethorn Acacia<br>Days=%{x}<br>Height=%{y}",
         "legendgroup": "Tree Species=Whitethorn Acacia",
         "marker": {
          "color": "#EF553B",
          "symbol": "circle"
         },
         "mode": "markers",
         "name": "Tree Species=Whitethorn Acacia",
         "showlegend": true,
         "type": "scatter",
         "x": [
          0,
          174,
          346,
          500
         ],
         "xaxis": "x",
         "y": [
          43.666666666666664,
          65.66666666666667,
          54.666666666666664,
          59.5
         ],
         "yaxis": "y"
        },
        {
         "hoverlabel": {
          "namelength": 0
         },
         "hovertemplate": "<b>OLS trendline</b><br>Height = 0.022147 * Days + 50.227554<br>R<sup>2</sup>=0.264390<br><br>Tree Species=Whitethorn Acacia<br>Days=%{x}<br>Height=%{y} <b>(trend)</b>",
         "legendgroup": "Tree Species=Whitethorn Acacia",
         "marker": {
          "color": "#EF553B",
          "symbol": "circle"
         },
         "mode": "lines",
         "name": "Tree Species=Whitethorn Acacia",
         "showlegend": false,
         "type": "scatter",
         "x": [
          0,
          174,
          346,
          500
         ],
         "xaxis": "x",
         "y": [
          50.22755411317302,
          54.08110542418437,
          57.8903630419657,
          61.300977420676894
         ],
         "yaxis": "y"
        }
       ],
       "layout": {
        "height": 600,
        "legend": {
         "tracegroupgap": 0
        },
        "margin": {
         "t": 60
        },
        "template": {
         "data": {
          "bar": [
           {
            "error_x": {
             "color": "#2a3f5f"
            },
            "error_y": {
             "color": "#2a3f5f"
            },
            "marker": {
             "line": {
              "color": "#E5ECF6",
              "width": 0.5
             }
            },
            "type": "bar"
           }
          ],
          "barpolar": [
           {
            "marker": {
             "line": {
              "color": "#E5ECF6",
              "width": 0.5
             }
            },
            "type": "barpolar"
           }
          ],
          "carpet": [
           {
            "aaxis": {
             "endlinecolor": "#2a3f5f",
             "gridcolor": "white",
             "linecolor": "white",
             "minorgridcolor": "white",
             "startlinecolor": "#2a3f5f"
            },
            "baxis": {
             "endlinecolor": "#2a3f5f",
             "gridcolor": "white",
             "linecolor": "white",
             "minorgridcolor": "white",
             "startlinecolor": "#2a3f5f"
            },
            "type": "carpet"
           }
          ],
          "choropleth": [
           {
            "colorbar": {
             "outlinewidth": 0,
             "ticks": ""
            },
            "type": "choropleth"
           }
          ],
          "contour": [
           {
            "colorbar": {
             "outlinewidth": 0,
             "ticks": ""
            },
            "colorscale": [
             [
              0,
              "#0d0887"
             ],
             [
              0.1111111111111111,
              "#46039f"
             ],
             [
              0.2222222222222222,
              "#7201a8"
             ],
             [
              0.3333333333333333,
              "#9c179e"
             ],
             [
              0.4444444444444444,
              "#bd3786"
             ],
             [
              0.5555555555555556,
              "#d8576b"
             ],
             [
              0.6666666666666666,
              "#ed7953"
             ],
             [
              0.7777777777777778,
              "#fb9f3a"
             ],
             [
              0.8888888888888888,
              "#fdca26"
             ],
             [
              1,
              "#f0f921"
             ]
            ],
            "type": "contour"
           }
          ],
          "contourcarpet": [
           {
            "colorbar": {
             "outlinewidth": 0,
             "ticks": ""
            },
            "type": "contourcarpet"
           }
          ],
          "heatmap": [
           {
            "colorbar": {
             "outlinewidth": 0,
             "ticks": ""
            },
            "colorscale": [
             [
              0,
              "#0d0887"
             ],
             [
              0.1111111111111111,
              "#46039f"
             ],
             [
              0.2222222222222222,
              "#7201a8"
             ],
             [
              0.3333333333333333,
              "#9c179e"
             ],
             [
              0.4444444444444444,
              "#bd3786"
             ],
             [
              0.5555555555555556,
              "#d8576b"
             ],
             [
              0.6666666666666666,
              "#ed7953"
             ],
             [
              0.7777777777777778,
              "#fb9f3a"
             ],
             [
              0.8888888888888888,
              "#fdca26"
             ],
             [
              1,
              "#f0f921"
             ]
            ],
            "type": "heatmap"
           }
          ],
          "heatmapgl": [
           {
            "colorbar": {
             "outlinewidth": 0,
             "ticks": ""
            },
            "colorscale": [
             [
              0,
              "#0d0887"
             ],
             [
              0.1111111111111111,
              "#46039f"
             ],
             [
              0.2222222222222222,
              "#7201a8"
             ],
             [
              0.3333333333333333,
              "#9c179e"
             ],
             [
              0.4444444444444444,
              "#bd3786"
             ],
             [
              0.5555555555555556,
              "#d8576b"
             ],
             [
              0.6666666666666666,
              "#ed7953"
             ],
             [
              0.7777777777777778,
              "#fb9f3a"
             ],
             [
              0.8888888888888888,
              "#fdca26"
             ],
             [
              1,
              "#f0f921"
             ]
            ],
            "type": "heatmapgl"
           }
          ],
          "histogram": [
           {
            "marker": {
             "colorbar": {
              "outlinewidth": 0,
              "ticks": ""
             }
            },
            "type": "histogram"
           }
          ],
          "histogram2d": [
           {
            "colorbar": {
             "outlinewidth": 0,
             "ticks": ""
            },
            "colorscale": [
             [
              0,
              "#0d0887"
             ],
             [
              0.1111111111111111,
              "#46039f"
             ],
             [
              0.2222222222222222,
              "#7201a8"
             ],
             [
              0.3333333333333333,
              "#9c179e"
             ],
             [
              0.4444444444444444,
              "#bd3786"
             ],
             [
              0.5555555555555556,
              "#d8576b"
             ],
             [
              0.6666666666666666,
              "#ed7953"
             ],
             [
              0.7777777777777778,
              "#fb9f3a"
             ],
             [
              0.8888888888888888,
              "#fdca26"
             ],
             [
              1,
              "#f0f921"
             ]
            ],
            "type": "histogram2d"
           }
          ],
          "histogram2dcontour": [
           {
            "colorbar": {
             "outlinewidth": 0,
             "ticks": ""
            },
            "colorscale": [
             [
              0,
              "#0d0887"
             ],
             [
              0.1111111111111111,
              "#46039f"
             ],
             [
              0.2222222222222222,
              "#7201a8"
             ],
             [
              0.3333333333333333,
              "#9c179e"
             ],
             [
              0.4444444444444444,
              "#bd3786"
             ],
             [
              0.5555555555555556,
              "#d8576b"
             ],
             [
              0.6666666666666666,
              "#ed7953"
             ],
             [
              0.7777777777777778,
              "#fb9f3a"
             ],
             [
              0.8888888888888888,
              "#fdca26"
             ],
             [
              1,
              "#f0f921"
             ]
            ],
            "type": "histogram2dcontour"
           }
          ],
          "mesh3d": [
           {
            "colorbar": {
             "outlinewidth": 0,
             "ticks": ""
            },
            "type": "mesh3d"
           }
          ],
          "parcoords": [
           {
            "line": {
             "colorbar": {
              "outlinewidth": 0,
              "ticks": ""
             }
            },
            "type": "parcoords"
           }
          ],
          "scatter": [
           {
            "marker": {
             "colorbar": {
              "outlinewidth": 0,
              "ticks": ""
             }
            },
            "type": "scatter"
           }
          ],
          "scatter3d": [
           {
            "line": {
             "colorbar": {
              "outlinewidth": 0,
              "ticks": ""
             }
            },
            "marker": {
             "colorbar": {
              "outlinewidth": 0,
              "ticks": ""
             }
            },
            "type": "scatter3d"
           }
          ],
          "scattercarpet": [
           {
            "marker": {
             "colorbar": {
              "outlinewidth": 0,
              "ticks": ""
             }
            },
            "type": "scattercarpet"
           }
          ],
          "scattergeo": [
           {
            "marker": {
             "colorbar": {
              "outlinewidth": 0,
              "ticks": ""
             }
            },
            "type": "scattergeo"
           }
          ],
          "scattergl": [
           {
            "marker": {
             "colorbar": {
              "outlinewidth": 0,
              "ticks": ""
             }
            },
            "type": "scattergl"
           }
          ],
          "scattermapbox": [
           {
            "marker": {
             "colorbar": {
              "outlinewidth": 0,
              "ticks": ""
             }
            },
            "type": "scattermapbox"
           }
          ],
          "scatterpolar": [
           {
            "marker": {
             "colorbar": {
              "outlinewidth": 0,
              "ticks": ""
             }
            },
            "type": "scatterpolar"
           }
          ],
          "scatterpolargl": [
           {
            "marker": {
             "colorbar": {
              "outlinewidth": 0,
              "ticks": ""
             }
            },
            "type": "scatterpolargl"
           }
          ],
          "scatterternary": [
           {
            "marker": {
             "colorbar": {
              "outlinewidth": 0,
              "ticks": ""
             }
            },
            "type": "scatterternary"
           }
          ],
          "surface": [
           {
            "colorbar": {
             "outlinewidth": 0,
             "ticks": ""
            },
            "colorscale": [
             [
              0,
              "#0d0887"
             ],
             [
              0.1111111111111111,
              "#46039f"
             ],
             [
              0.2222222222222222,
              "#7201a8"
             ],
             [
              0.3333333333333333,
              "#9c179e"
             ],
             [
              0.4444444444444444,
              "#bd3786"
             ],
             [
              0.5555555555555556,
              "#d8576b"
             ],
             [
              0.6666666666666666,
              "#ed7953"
             ],
             [
              0.7777777777777778,
              "#fb9f3a"
             ],
             [
              0.8888888888888888,
              "#fdca26"
             ],
             [
              1,
              "#f0f921"
             ]
            ],
            "type": "surface"
           }
          ],
          "table": [
           {
            "cells": {
             "fill": {
              "color": "#EBF0F8"
             },
             "line": {
              "color": "white"
             }
            },
            "header": {
             "fill": {
              "color": "#C8D4E3"
             },
             "line": {
              "color": "white"
             }
            },
            "type": "table"
           }
          ]
         },
         "layout": {
          "annotationdefaults": {
           "arrowcolor": "#2a3f5f",
           "arrowhead": 0,
           "arrowwidth": 1
          },
          "colorscale": {
           "diverging": [
            [
             0,
             "#8e0152"
            ],
            [
             0.1,
             "#c51b7d"
            ],
            [
             0.2,
             "#de77ae"
            ],
            [
             0.3,
             "#f1b6da"
            ],
            [
             0.4,
             "#fde0ef"
            ],
            [
             0.5,
             "#f7f7f7"
            ],
            [
             0.6,
             "#e6f5d0"
            ],
            [
             0.7,
             "#b8e186"
            ],
            [
             0.8,
             "#7fbc41"
            ],
            [
             0.9,
             "#4d9221"
            ],
            [
             1,
             "#276419"
            ]
           ],
           "sequential": [
            [
             0,
             "#0d0887"
            ],
            [
             0.1111111111111111,
             "#46039f"
            ],
            [
             0.2222222222222222,
             "#7201a8"
            ],
            [
             0.3333333333333333,
             "#9c179e"
            ],
            [
             0.4444444444444444,
             "#bd3786"
            ],
            [
             0.5555555555555556,
             "#d8576b"
            ],
            [
             0.6666666666666666,
             "#ed7953"
            ],
            [
             0.7777777777777778,
             "#fb9f3a"
            ],
            [
             0.8888888888888888,
             "#fdca26"
            ],
            [
             1,
             "#f0f921"
            ]
           ],
           "sequentialminus": [
            [
             0,
             "#0d0887"
            ],
            [
             0.1111111111111111,
             "#46039f"
            ],
            [
             0.2222222222222222,
             "#7201a8"
            ],
            [
             0.3333333333333333,
             "#9c179e"
            ],
            [
             0.4444444444444444,
             "#bd3786"
            ],
            [
             0.5555555555555556,
             "#d8576b"
            ],
            [
             0.6666666666666666,
             "#ed7953"
            ],
            [
             0.7777777777777778,
             "#fb9f3a"
            ],
            [
             0.8888888888888888,
             "#fdca26"
            ],
            [
             1,
             "#f0f921"
            ]
           ]
          },
          "colorway": [
           "#636efa",
           "#EF553B",
           "#00cc96",
           "#ab63fa",
           "#FFA15A",
           "#19d3f3",
           "#FF6692",
           "#B6E880",
           "#FF97FF",
           "#FECB52"
          ],
          "font": {
           "color": "#2a3f5f"
          },
          "geo": {
           "bgcolor": "white",
           "lakecolor": "white",
           "landcolor": "#E5ECF6",
           "showlakes": true,
           "showland": true,
           "subunitcolor": "white"
          },
          "hoverlabel": {
           "align": "left"
          },
          "hovermode": "closest",
          "mapbox": {
           "style": "light"
          },
          "paper_bgcolor": "white",
          "plot_bgcolor": "#E5ECF6",
          "polar": {
           "angularaxis": {
            "gridcolor": "white",
            "linecolor": "white",
            "ticks": ""
           },
           "bgcolor": "#E5ECF6",
           "radialaxis": {
            "gridcolor": "white",
            "linecolor": "white",
            "ticks": ""
           }
          },
          "scene": {
           "xaxis": {
            "backgroundcolor": "#E5ECF6",
            "gridcolor": "white",
            "gridwidth": 2,
            "linecolor": "white",
            "showbackground": true,
            "ticks": "",
            "zerolinecolor": "white"
           },
           "yaxis": {
            "backgroundcolor": "#E5ECF6",
            "gridcolor": "white",
            "gridwidth": 2,
            "linecolor": "white",
            "showbackground": true,
            "ticks": "",
            "zerolinecolor": "white"
           },
           "zaxis": {
            "backgroundcolor": "#E5ECF6",
            "gridcolor": "white",
            "gridwidth": 2,
            "linecolor": "white",
            "showbackground": true,
            "ticks": "",
            "zerolinecolor": "white"
           }
          },
          "shapedefaults": {
           "line": {
            "color": "#2a3f5f"
           }
          },
          "ternary": {
           "aaxis": {
            "gridcolor": "white",
            "linecolor": "white",
            "ticks": ""
           },
           "baxis": {
            "gridcolor": "white",
            "linecolor": "white",
            "ticks": ""
           },
           "bgcolor": "#E5ECF6",
           "caxis": {
            "gridcolor": "white",
            "linecolor": "white",
            "ticks": ""
           }
          },
          "title": {
           "x": 0.05
          },
          "xaxis": {
           "automargin": true,
           "gridcolor": "white",
           "linecolor": "white",
           "ticks": "",
           "zerolinecolor": "white",
           "zerolinewidth": 2
          },
          "yaxis": {
           "automargin": true,
           "gridcolor": "white",
           "linecolor": "white",
           "ticks": "",
           "zerolinecolor": "white",
           "zerolinewidth": 2
          }
         }
        },
        "xaxis": {
         "anchor": "y",
         "domain": [
          0,
          0.98
         ],
         "title": {
          "text": "Days"
         }
        },
        "yaxis": {
         "anchor": "x",
         "domain": [
          0,
          1
         ],
         "title": {
          "text": "Height"
         }
        }
       }
      },
      "text/html": [
       "<div>\n",
       "        \n",
       "        \n",
       "            <div id=\"27622d6c-4803-44ba-8f64-2d1f3eb1699c\" class=\"plotly-graph-div\" style=\"height:600px; width:100%;\"></div>\n",
       "            <script type=\"text/javascript\">\n",
       "                require([\"plotly\"], function(Plotly) {\n",
       "                    window.PLOTLYENV=window.PLOTLYENV || {};\n",
       "                    \n",
       "                if (document.getElementById(\"27622d6c-4803-44ba-8f64-2d1f3eb1699c\")) {\n",
       "                    Plotly.newPlot(\n",
       "                        '27622d6c-4803-44ba-8f64-2d1f3eb1699c',\n",
       "                        [{\"hoverlabel\": {\"namelength\": 0}, \"hovertemplate\": \"Tree Species=Blue Palo Verde<br>Days=%{x}<br>Height=%{y}\", \"legendgroup\": \"Tree Species=Blue Palo Verde\", \"marker\": {\"color\": \"#636efa\", \"symbol\": \"circle\"}, \"mode\": \"markers\", \"name\": \"Tree Species=Blue Palo Verde\", \"showlegend\": true, \"type\": \"scatter\", \"x\": [0, 174, 346, 500], \"xaxis\": \"x\", \"y\": [33.25, 69.75, 67.0, 109.0], \"yaxis\": \"y\"}, {\"hoverlabel\": {\"namelength\": 0}, \"hovertemplate\": \"<b>OLS trendline</b><br>Height = 0.133485 * Days + 35.711295<br>R<sup>2</sup>=0.865385<br><br>Tree Species=Blue Palo Verde<br>Days=%{x}<br>Height=%{y} <b>(trend)</b>\", \"legendgroup\": \"Tree Species=Blue Palo Verde\", \"marker\": {\"color\": \"#636efa\", \"symbol\": \"circle\"}, \"mode\": \"lines\", \"name\": \"Tree Species=Blue Palo Verde\", \"showlegend\": false, \"type\": \"scatter\", \"x\": [0, 174, 346, 500], \"xaxis\": \"x\", \"y\": [35.71129514196666, 58.93770551568352, 81.89714565521973, 102.45385368713005], \"yaxis\": \"y\"}, {\"hoverlabel\": {\"namelength\": 0}, \"hovertemplate\": \"Tree Species=Canyon Hackberry<br>Days=%{x}<br>Height=%{y}\", \"legendgroup\": \"Tree Species=Canyon Hackberry\", \"marker\": {\"color\": \"#EF553B\", \"symbol\": \"circle\"}, \"mode\": \"markers\", \"name\": \"Tree Species=Canyon Hackberry\", \"showlegend\": true, \"type\": \"scatter\", \"x\": [0, 174, 346, 500], \"xaxis\": \"x\", \"y\": [43.0, 83.0, 95.0, 88.0], \"yaxis\": \"y\"}, {\"hoverlabel\": {\"namelength\": 0}, \"hovertemplate\": \"<b>OLS trendline</b><br>Height = 0.089476 * Days + 54.433577<br>R<sup>2</sup>=0.684266<br><br>Tree Species=Canyon Hackberry<br>Days=%{x}<br>Height=%{y} <b>(trend)</b>\", \"legendgroup\": \"Tree Species=Canyon Hackberry\", \"marker\": {\"color\": \"#EF553B\", \"symbol\": \"circle\"}, \"mode\": \"lines\", \"name\": \"Tree Species=Canyon Hackberry\", \"showlegend\": false, \"type\": \"scatter\", \"x\": [0, 174, 346, 500], \"xaxis\": \"x\", \"y\": [54.433577331083974, 70.0024304463443, 85.39233122694648, 99.17166099562517], \"yaxis\": \"y\"}, {\"hoverlabel\": {\"namelength\": 0}, \"hovertemplate\": \"Tree Species=Catclaw Acacia<br>Days=%{x}<br>Height=%{y}\", \"legendgroup\": \"Tree Species=Catclaw Acacia\", \"marker\": {\"color\": \"#00cc96\", \"symbol\": \"circle\"}, \"mode\": \"markers\", \"name\": \"Tree Species=Catclaw Acacia\", \"showlegend\": true, \"type\": \"scatter\", \"x\": [0, 174, 346, 500], \"xaxis\": \"x\", \"y\": [49.166666666666664, 66.875, 59.416666666666664, 67.75], \"yaxis\": \"y\"}, {\"hoverlabel\": {\"namelength\": 0}, \"hovertemplate\": \"<b>OLS trendline</b><br>Height = 0.028960 * Days + 53.417248<br>R<sup>2</sup>=0.527412<br><br>Tree Species=Catclaw Acacia<br>Days=%{x}<br>Height=%{y} <b>(trend)</b>\", \"legendgroup\": \"Tree Species=Catclaw Acacia\", \"marker\": {\"color\": \"#00cc96\", \"symbol\": \"circle\"}, \"mode\": \"lines\", \"name\": \"Tree Species=Catclaw Acacia\", \"showlegend\": false, \"type\": \"scatter\", \"x\": [0, 174, 346, 500], \"xaxis\": \"x\", \"y\": [53.41724806755687, 58.456312131263154, 63.43745591837511, 67.89731721613813], \"yaxis\": \"y\"}, {\"hoverlabel\": {\"namelength\": 0}, \"hovertemplate\": \"Tree Species=Desert Hackberry<br>Days=%{x}<br>Height=%{y}\", \"legendgroup\": \"Tree Species=Desert Hackberry\", \"marker\": {\"color\": \"#ab63fa\", \"symbol\": \"circle\"}, \"mode\": \"markers\", \"name\": \"Tree Species=Desert Hackberry\", \"showlegend\": true, \"type\": \"scatter\", \"x\": [0, 174, 346, 500], \"xaxis\": \"x\", \"y\": [36.333333333333336, 32.833333333333336, 29.666666666666668, 100.66666666666667], \"yaxis\": \"y\"}, {\"hoverlabel\": {\"namelength\": 0}, \"hovertemplate\": \"<b>OLS trendline</b><br>Height = 0.110360 * Days + 21.733166<br>R<sup>2</sup>=0.492147<br><br>Tree Species=Desert Hackberry<br>Days=%{x}<br>Height=%{y} <b>(trend)</b>\", \"legendgroup\": \"Tree Species=Desert Hackberry\", \"marker\": {\"color\": \"#ab63fa\", \"symbol\": \"circle\"}, \"mode\": \"lines\", \"name\": \"Tree Species=Desert Hackberry\", \"showlegend\": false, \"type\": \"scatter\", \"x\": [0, 174, 346, 500], \"xaxis\": \"x\", \"y\": [21.73316558487976, 40.93582906813827, 59.917772281474264, 76.91323306550765], \"yaxis\": \"y\"}, {\"hoverlabel\": {\"namelength\": 0}, \"hovertemplate\": \"Tree Species=Desert Willow<br>Days=%{x}<br>Height=%{y}\", \"legendgroup\": \"Tree Species=Desert Willow\", \"marker\": {\"color\": \"#FFA15A\", \"symbol\": \"circle\"}, \"mode\": \"markers\", \"name\": \"Tree Species=Desert Willow\", \"showlegend\": true, \"type\": \"scatter\", \"x\": [0, 174, 346, 500], \"xaxis\": \"x\", \"y\": [41.5, 77.0, 77.0, 84.75], \"yaxis\": \"y\"}, {\"hoverlabel\": {\"namelength\": 0}, \"hovertemplate\": \"<b>OLS trendline</b><br>Height = 0.078284 * Days + 50.100181<br>R<sup>2</sup>=0.760158<br><br>Tree Species=Desert Willow<br>Days=%{x}<br>Height=%{y} <b>(trend)</b>\", \"legendgroup\": \"Tree Species=Desert Willow\", \"marker\": {\"color\": \"#FFA15A\", \"symbol\": \"circle\"}, \"mode\": \"lines\", \"name\": \"Tree Species=Desert Willow\", \"showlegend\": false, \"type\": \"scatter\", \"x\": [0, 174, 346, 500], \"xaxis\": \"x\", \"y\": [50.100180853801504, 63.72152803591341, 77.18630800903553, 89.24198310124952], \"yaxis\": \"y\"}, {\"hoverlabel\": {\"namelength\": 0}, \"hovertemplate\": \"Tree Species=Foothills Palo Verde<br>Days=%{x}<br>Height=%{y}\", \"legendgroup\": \"Tree Species=Foothills Palo Verde\", \"marker\": {\"color\": \"#19d3f3\", \"symbol\": \"circle\"}, \"mode\": \"markers\", \"name\": \"Tree Species=Foothills Palo Verde\", \"showlegend\": true, \"type\": \"scatter\", \"x\": [0, 174, 346, 500], \"xaxis\": \"x\", \"y\": [35.0, 48.5, 49.75, 72.5], \"yaxis\": \"y\"}, {\"hoverlabel\": {\"namelength\": 0}, \"hovertemplate\": \"<b>OLS trendline</b><br>Height = 0.067454 * Days + 34.236776<br>R<sup>2</sup>=0.877587<br><br>Tree Species=Foothills Palo Verde<br>Days=%{x}<br>Height=%{y} <b>(trend)</b>\", \"legendgroup\": \"Tree Species=Foothills Palo Verde\", \"marker\": {\"color\": \"#19d3f3\", \"symbol\": \"circle\"}, \"mode\": \"lines\", \"name\": \"Tree Species=Foothills Palo Verde\", \"showlegend\": false, \"type\": \"scatter\", \"x\": [0, 174, 346, 500], \"xaxis\": \"x\", \"y\": [34.236775512538244, 45.973740456923906, 57.57579775827065, 67.96368627226717], \"yaxis\": \"y\"}, {\"hoverlabel\": {\"namelength\": 0}, \"hovertemplate\": \"Tree Species=Netleaf Hackberry<br>Days=%{x}<br>Height=%{y}\", \"legendgroup\": \"Tree Species=Netleaf Hackberry\", \"marker\": {\"color\": \"#FF6692\", \"symbol\": \"circle\"}, \"mode\": \"markers\", \"name\": \"Tree Species=Netleaf Hackberry\", \"showlegend\": true, \"type\": \"scatter\", \"x\": [0, 174, 346, 500], \"xaxis\": \"x\", \"y\": [29.0, 83.0, 85.0, 61.0], \"yaxis\": \"y\"}, {\"hoverlabel\": {\"namelength\": 0}, \"hovertemplate\": \"<b>OLS trendline</b><br>Height = 0.061204 * Days + 48.892889<br>R<sup>2</sup>=0.257509<br><br>Tree Species=Netleaf Hackberry<br>Days=%{x}<br>Height=%{y} <b>(trend)</b>\", \"legendgroup\": \"Tree Species=Netleaf Hackberry\", \"marker\": {\"color\": \"#FF6692\", \"symbol\": \"circle\"}, \"mode\": \"lines\", \"name\": \"Tree Species=Netleaf Hackberry\", \"showlegend\": false, \"type\": \"scatter\", \"x\": [0, 174, 346, 500], \"xaxis\": \"x\", \"y\": [48.89288879993137, 59.54244703056642, 70.06959654590682, 79.49506762359532], \"yaxis\": \"y\"}, {\"hoverlabel\": {\"namelength\": 0}, \"hovertemplate\": \"Tree Species=Screwbean Mesquite<br>Days=%{x}<br>Height=%{y}\", \"legendgroup\": \"Tree Species=Screwbean Mesquite\", \"marker\": {\"color\": \"#B6E880\", \"symbol\": \"circle\"}, \"mode\": \"markers\", \"name\": \"Tree Species=Screwbean Mesquite\", \"showlegend\": true, \"type\": \"scatter\", \"x\": [0, 174, 346, 500], \"xaxis\": \"x\", \"y\": [40.8, 86.4, 91.6, 99.9], \"yaxis\": \"y\"}, {\"hoverlabel\": {\"namelength\": 0}, \"hovertemplate\": \"<b>OLS trendline</b><br>Height = 0.110147 * Days + 51.587486<br>R<sup>2</sup>=0.805231<br><br>Tree Species=Screwbean Mesquite<br>Days=%{x}<br>Height=%{y} <b>(trend)</b>\", \"legendgroup\": \"Tree Species=Screwbean Mesquite\", \"marker\": {\"color\": \"#B6E880\", \"symbol\": \"circle\"}, \"mode\": \"lines\", \"name\": \"Tree Species=Screwbean Mesquite\", \"showlegend\": false, \"type\": \"scatter\", \"x\": [0, 174, 346, 500], \"xaxis\": \"x\", \"y\": [51.587486060675374, 70.75308380750865, 89.6983873273668, 106.66104280444912], \"yaxis\": \"y\"}, {\"hoverlabel\": {\"namelength\": 0}, \"hovertemplate\": \"Tree Species=Screwbean Mesquite/Ironwood<br>Days=%{x}<br>Height=%{y}\", \"legendgroup\": \"Tree Species=Screwbean Mesquite/Ironwood\", \"marker\": {\"color\": \"#FF97FF\", \"symbol\": \"circle\"}, \"mode\": \"markers\", \"name\": \"Tree Species=Screwbean Mesquite/Ironwood\", \"showlegend\": true, \"type\": \"scatter\", \"x\": [0, 174, 346, 500], \"xaxis\": \"x\", \"y\": [42.0, 40.0, 36.0, null], \"yaxis\": \"y\"}, {\"hoverlabel\": {\"namelength\": 0}, \"hovertemplate\": \"<b>OLS trendline</b><br>Height = nan * Days + nan<br>R<sup>2</sup>=nan<br><br>Tree Species=Screwbean Mesquite/Ironwood<br>Days=%{x}<br>Height=%{y} <b>(trend)</b>\", \"legendgroup\": \"Tree Species=Screwbean Mesquite/Ironwood\", \"marker\": {\"color\": \"#FF97FF\", \"symbol\": \"circle\"}, \"mode\": \"lines\", \"name\": \"Tree Species=Screwbean Mesquite/Ironwood\", \"showlegend\": false, \"type\": \"scatter\", \"x\": [0, 174, 346, 500], \"xaxis\": \"x\", \"y\": [null, null, null, null], \"yaxis\": \"y\"}, {\"hoverlabel\": {\"namelength\": 0}, \"hovertemplate\": \"Tree Species=Sweet Acacia<br>Days=%{x}<br>Height=%{y}\", \"legendgroup\": \"Tree Species=Sweet Acacia\", \"marker\": {\"color\": \"#FECB52\", \"symbol\": \"circle\"}, \"mode\": \"markers\", \"name\": \"Tree Species=Sweet Acacia\", \"showlegend\": true, \"type\": \"scatter\", \"x\": [0, 174, 346, 500], \"xaxis\": \"x\", \"y\": [54.0, 87.5, 88.25, 109.5], \"yaxis\": \"y\"}, {\"hoverlabel\": {\"namelength\": 0}, \"hovertemplate\": \"<b>OLS trendline</b><br>Height = 0.100083 * Days + 59.291446<br>R<sup>2</sup>=0.888023<br><br>Tree Species=Sweet Acacia<br>Days=%{x}<br>Height=%{y} <b>(trend)</b>\", \"legendgroup\": \"Tree Species=Sweet Acacia\", \"marker\": {\"color\": \"#FECB52\", \"symbol\": \"circle\"}, \"mode\": \"lines\", \"name\": \"Tree Species=Sweet Acacia\", \"showlegend\": false, \"type\": \"scatter\", \"x\": [0, 174, 346, 500], \"xaxis\": \"x\", \"y\": [59.291446258542294, 76.70581234094871, 93.92001329597116, 109.33272810453775], \"yaxis\": \"y\"}, {\"hoverlabel\": {\"namelength\": 0}, \"hovertemplate\": \"Tree Species=Velvet Mesquite<br>Days=%{x}<br>Height=%{y}\", \"legendgroup\": \"Tree Species=Velvet Mesquite\", \"marker\": {\"color\": \"#636efa\", \"symbol\": \"circle\"}, \"mode\": \"markers\", \"name\": \"Tree Species=Velvet Mesquite\", \"showlegend\": true, \"type\": \"scatter\", \"x\": [0, 174, 346, 500], \"xaxis\": \"x\", \"y\": [43.666666666666664, 61.0, 58.0, 67.0], \"yaxis\": \"y\"}, {\"hoverlabel\": {\"namelength\": 0}, \"hovertemplate\": \"<b>OLS trendline</b><br>Height = 0.040152 * Days + 47.177804<br>R<sup>2</sup>=0.766912<br><br>Tree Species=Velvet Mesquite<br>Days=%{x}<br>Height=%{y} <b>(trend)</b>\", \"legendgroup\": \"Tree Species=Velvet Mesquite\", \"marker\": {\"color\": \"#636efa\", \"symbol\": \"circle\"}, \"mode\": \"lines\", \"name\": \"Tree Species=Velvet Mesquite\", \"showlegend\": false, \"type\": \"scatter\", \"x\": [0, 174, 346, 500], \"xaxis\": \"x\", \"y\": [47.17780382962094, 54.164322000781546, 61.07053536537709, 67.25400547088705], \"yaxis\": \"y\"}, {\"hoverlabel\": {\"namelength\": 0}, \"hovertemplate\": \"Tree Species=Whitethorn Acacia<br>Days=%{x}<br>Height=%{y}\", \"legendgroup\": \"Tree Species=Whitethorn Acacia\", \"marker\": {\"color\": \"#EF553B\", \"symbol\": \"circle\"}, \"mode\": \"markers\", \"name\": \"Tree Species=Whitethorn Acacia\", \"showlegend\": true, \"type\": \"scatter\", \"x\": [0, 174, 346, 500], \"xaxis\": \"x\", \"y\": [43.666666666666664, 65.66666666666667, 54.666666666666664, 59.5], \"yaxis\": \"y\"}, {\"hoverlabel\": {\"namelength\": 0}, \"hovertemplate\": \"<b>OLS trendline</b><br>Height = 0.022147 * Days + 50.227554<br>R<sup>2</sup>=0.264390<br><br>Tree Species=Whitethorn Acacia<br>Days=%{x}<br>Height=%{y} <b>(trend)</b>\", \"legendgroup\": \"Tree Species=Whitethorn Acacia\", \"marker\": {\"color\": \"#EF553B\", \"symbol\": \"circle\"}, \"mode\": \"lines\", \"name\": \"Tree Species=Whitethorn Acacia\", \"showlegend\": false, \"type\": \"scatter\", \"x\": [0, 174, 346, 500], \"xaxis\": \"x\", \"y\": [50.22755411317302, 54.08110542418437, 57.8903630419657, 61.300977420676894], \"yaxis\": \"y\"}],\n",
       "                        {\"height\": 600, \"legend\": {\"tracegroupgap\": 0}, \"margin\": {\"t\": 60}, \"template\": {\"data\": {\"bar\": [{\"error_x\": {\"color\": \"#2a3f5f\"}, \"error_y\": {\"color\": \"#2a3f5f\"}, \"marker\": {\"line\": {\"color\": \"#E5ECF6\", \"width\": 0.5}}, \"type\": \"bar\"}], \"barpolar\": [{\"marker\": {\"line\": {\"color\": \"#E5ECF6\", \"width\": 0.5}}, \"type\": \"barpolar\"}], \"carpet\": [{\"aaxis\": {\"endlinecolor\": \"#2a3f5f\", \"gridcolor\": \"white\", \"linecolor\": \"white\", \"minorgridcolor\": \"white\", \"startlinecolor\": \"#2a3f5f\"}, \"baxis\": {\"endlinecolor\": \"#2a3f5f\", \"gridcolor\": \"white\", \"linecolor\": \"white\", \"minorgridcolor\": \"white\", \"startlinecolor\": \"#2a3f5f\"}, \"type\": \"carpet\"}], \"choropleth\": [{\"colorbar\": {\"outlinewidth\": 0, \"ticks\": \"\"}, \"type\": \"choropleth\"}], \"contour\": [{\"colorbar\": {\"outlinewidth\": 0, \"ticks\": \"\"}, \"colorscale\": [[0.0, \"#0d0887\"], [0.1111111111111111, \"#46039f\"], [0.2222222222222222, \"#7201a8\"], [0.3333333333333333, \"#9c179e\"], [0.4444444444444444, \"#bd3786\"], [0.5555555555555556, \"#d8576b\"], [0.6666666666666666, \"#ed7953\"], [0.7777777777777778, \"#fb9f3a\"], [0.8888888888888888, \"#fdca26\"], [1.0, \"#f0f921\"]], \"type\": \"contour\"}], \"contourcarpet\": [{\"colorbar\": {\"outlinewidth\": 0, \"ticks\": \"\"}, \"type\": \"contourcarpet\"}], \"heatmap\": [{\"colorbar\": {\"outlinewidth\": 0, \"ticks\": \"\"}, \"colorscale\": [[0.0, \"#0d0887\"], [0.1111111111111111, \"#46039f\"], [0.2222222222222222, \"#7201a8\"], [0.3333333333333333, \"#9c179e\"], [0.4444444444444444, \"#bd3786\"], [0.5555555555555556, \"#d8576b\"], [0.6666666666666666, \"#ed7953\"], [0.7777777777777778, \"#fb9f3a\"], [0.8888888888888888, \"#fdca26\"], [1.0, \"#f0f921\"]], \"type\": \"heatmap\"}], \"heatmapgl\": [{\"colorbar\": {\"outlinewidth\": 0, \"ticks\": \"\"}, \"colorscale\": [[0.0, \"#0d0887\"], [0.1111111111111111, \"#46039f\"], [0.2222222222222222, \"#7201a8\"], [0.3333333333333333, \"#9c179e\"], [0.4444444444444444, \"#bd3786\"], [0.5555555555555556, \"#d8576b\"], [0.6666666666666666, \"#ed7953\"], [0.7777777777777778, \"#fb9f3a\"], [0.8888888888888888, \"#fdca26\"], [1.0, \"#f0f921\"]], \"type\": \"heatmapgl\"}], \"histogram\": [{\"marker\": {\"colorbar\": {\"outlinewidth\": 0, \"ticks\": \"\"}}, \"type\": \"histogram\"}], \"histogram2d\": [{\"colorbar\": {\"outlinewidth\": 0, \"ticks\": \"\"}, \"colorscale\": [[0.0, \"#0d0887\"], [0.1111111111111111, \"#46039f\"], [0.2222222222222222, \"#7201a8\"], [0.3333333333333333, \"#9c179e\"], [0.4444444444444444, \"#bd3786\"], [0.5555555555555556, \"#d8576b\"], [0.6666666666666666, \"#ed7953\"], [0.7777777777777778, \"#fb9f3a\"], [0.8888888888888888, \"#fdca26\"], [1.0, \"#f0f921\"]], \"type\": \"histogram2d\"}], \"histogram2dcontour\": [{\"colorbar\": {\"outlinewidth\": 0, \"ticks\": \"\"}, \"colorscale\": [[0.0, \"#0d0887\"], [0.1111111111111111, \"#46039f\"], [0.2222222222222222, \"#7201a8\"], [0.3333333333333333, \"#9c179e\"], [0.4444444444444444, \"#bd3786\"], [0.5555555555555556, \"#d8576b\"], [0.6666666666666666, \"#ed7953\"], [0.7777777777777778, \"#fb9f3a\"], [0.8888888888888888, \"#fdca26\"], [1.0, \"#f0f921\"]], \"type\": \"histogram2dcontour\"}], \"mesh3d\": [{\"colorbar\": {\"outlinewidth\": 0, \"ticks\": \"\"}, \"type\": \"mesh3d\"}], \"parcoords\": [{\"line\": {\"colorbar\": {\"outlinewidth\": 0, \"ticks\": \"\"}}, \"type\": \"parcoords\"}], \"scatter\": [{\"marker\": {\"colorbar\": {\"outlinewidth\": 0, \"ticks\": \"\"}}, \"type\": \"scatter\"}], \"scatter3d\": [{\"line\": {\"colorbar\": {\"outlinewidth\": 0, \"ticks\": \"\"}}, \"marker\": {\"colorbar\": {\"outlinewidth\": 0, \"ticks\": \"\"}}, \"type\": \"scatter3d\"}], \"scattercarpet\": [{\"marker\": {\"colorbar\": {\"outlinewidth\": 0, \"ticks\": \"\"}}, \"type\": \"scattercarpet\"}], \"scattergeo\": [{\"marker\": {\"colorbar\": {\"outlinewidth\": 0, \"ticks\": \"\"}}, \"type\": \"scattergeo\"}], \"scattergl\": [{\"marker\": {\"colorbar\": {\"outlinewidth\": 0, \"ticks\": \"\"}}, \"type\": \"scattergl\"}], \"scattermapbox\": [{\"marker\": {\"colorbar\": {\"outlinewidth\": 0, \"ticks\": \"\"}}, \"type\": \"scattermapbox\"}], \"scatterpolar\": [{\"marker\": {\"colorbar\": {\"outlinewidth\": 0, \"ticks\": \"\"}}, \"type\": \"scatterpolar\"}], \"scatterpolargl\": [{\"marker\": {\"colorbar\": {\"outlinewidth\": 0, \"ticks\": \"\"}}, \"type\": \"scatterpolargl\"}], \"scatterternary\": [{\"marker\": {\"colorbar\": {\"outlinewidth\": 0, \"ticks\": \"\"}}, \"type\": \"scatterternary\"}], \"surface\": [{\"colorbar\": {\"outlinewidth\": 0, \"ticks\": \"\"}, \"colorscale\": [[0.0, \"#0d0887\"], [0.1111111111111111, \"#46039f\"], [0.2222222222222222, \"#7201a8\"], [0.3333333333333333, \"#9c179e\"], [0.4444444444444444, \"#bd3786\"], [0.5555555555555556, \"#d8576b\"], [0.6666666666666666, \"#ed7953\"], [0.7777777777777778, \"#fb9f3a\"], [0.8888888888888888, \"#fdca26\"], [1.0, \"#f0f921\"]], \"type\": \"surface\"}], \"table\": [{\"cells\": {\"fill\": {\"color\": \"#EBF0F8\"}, \"line\": {\"color\": \"white\"}}, \"header\": {\"fill\": {\"color\": \"#C8D4E3\"}, \"line\": {\"color\": \"white\"}}, \"type\": \"table\"}]}, \"layout\": {\"annotationdefaults\": {\"arrowcolor\": \"#2a3f5f\", \"arrowhead\": 0, \"arrowwidth\": 1}, \"colorscale\": {\"diverging\": [[0, \"#8e0152\"], [0.1, \"#c51b7d\"], [0.2, \"#de77ae\"], [0.3, \"#f1b6da\"], [0.4, \"#fde0ef\"], [0.5, \"#f7f7f7\"], [0.6, \"#e6f5d0\"], [0.7, \"#b8e186\"], [0.8, \"#7fbc41\"], [0.9, \"#4d9221\"], [1, \"#276419\"]], \"sequential\": [[0.0, \"#0d0887\"], [0.1111111111111111, \"#46039f\"], [0.2222222222222222, \"#7201a8\"], [0.3333333333333333, \"#9c179e\"], [0.4444444444444444, \"#bd3786\"], [0.5555555555555556, \"#d8576b\"], [0.6666666666666666, \"#ed7953\"], [0.7777777777777778, \"#fb9f3a\"], [0.8888888888888888, \"#fdca26\"], [1.0, \"#f0f921\"]], \"sequentialminus\": [[0.0, \"#0d0887\"], [0.1111111111111111, \"#46039f\"], [0.2222222222222222, \"#7201a8\"], [0.3333333333333333, \"#9c179e\"], [0.4444444444444444, \"#bd3786\"], [0.5555555555555556, \"#d8576b\"], [0.6666666666666666, \"#ed7953\"], [0.7777777777777778, \"#fb9f3a\"], [0.8888888888888888, \"#fdca26\"], [1.0, \"#f0f921\"]]}, \"colorway\": [\"#636efa\", \"#EF553B\", \"#00cc96\", \"#ab63fa\", \"#FFA15A\", \"#19d3f3\", \"#FF6692\", \"#B6E880\", \"#FF97FF\", \"#FECB52\"], \"font\": {\"color\": \"#2a3f5f\"}, \"geo\": {\"bgcolor\": \"white\", \"lakecolor\": \"white\", \"landcolor\": \"#E5ECF6\", \"showlakes\": true, \"showland\": true, \"subunitcolor\": \"white\"}, \"hoverlabel\": {\"align\": \"left\"}, \"hovermode\": \"closest\", \"mapbox\": {\"style\": \"light\"}, \"paper_bgcolor\": \"white\", \"plot_bgcolor\": \"#E5ECF6\", \"polar\": {\"angularaxis\": {\"gridcolor\": \"white\", \"linecolor\": \"white\", \"ticks\": \"\"}, \"bgcolor\": \"#E5ECF6\", \"radialaxis\": {\"gridcolor\": \"white\", \"linecolor\": \"white\", \"ticks\": \"\"}}, \"scene\": {\"xaxis\": {\"backgroundcolor\": \"#E5ECF6\", \"gridcolor\": \"white\", \"gridwidth\": 2, \"linecolor\": \"white\", \"showbackground\": true, \"ticks\": \"\", \"zerolinecolor\": \"white\"}, \"yaxis\": {\"backgroundcolor\": \"#E5ECF6\", \"gridcolor\": \"white\", \"gridwidth\": 2, \"linecolor\": \"white\", \"showbackground\": true, \"ticks\": \"\", \"zerolinecolor\": \"white\"}, \"zaxis\": {\"backgroundcolor\": \"#E5ECF6\", \"gridcolor\": \"white\", \"gridwidth\": 2, \"linecolor\": \"white\", \"showbackground\": true, \"ticks\": \"\", \"zerolinecolor\": \"white\"}}, \"shapedefaults\": {\"line\": {\"color\": \"#2a3f5f\"}}, \"ternary\": {\"aaxis\": {\"gridcolor\": \"white\", \"linecolor\": \"white\", \"ticks\": \"\"}, \"baxis\": {\"gridcolor\": \"white\", \"linecolor\": \"white\", \"ticks\": \"\"}, \"bgcolor\": \"#E5ECF6\", \"caxis\": {\"gridcolor\": \"white\", \"linecolor\": \"white\", \"ticks\": \"\"}}, \"title\": {\"x\": 0.05}, \"xaxis\": {\"automargin\": true, \"gridcolor\": \"white\", \"linecolor\": \"white\", \"ticks\": \"\", \"zerolinecolor\": \"white\", \"zerolinewidth\": 2}, \"yaxis\": {\"automargin\": true, \"gridcolor\": \"white\", \"linecolor\": \"white\", \"ticks\": \"\", \"zerolinecolor\": \"white\", \"zerolinewidth\": 2}}}, \"xaxis\": {\"anchor\": \"y\", \"domain\": [0.0, 0.98], \"title\": {\"text\": \"Days\"}}, \"yaxis\": {\"anchor\": \"x\", \"domain\": [0.0, 1.0], \"title\": {\"text\": \"Height\"}}},\n",
       "                        {\"responsive\": true}\n",
       "                    ).then(function(){\n",
       "                            \n",
       "var gd = document.getElementById('27622d6c-4803-44ba-8f64-2d1f3eb1699c');\n",
       "var x = new MutationObserver(function (mutations, observer) {{\n",
       "        var display = window.getComputedStyle(gd).display;\n",
       "        if (!display || display === 'none') {{\n",
       "            console.log([gd, 'removed!']);\n",
       "            Plotly.purge(gd);\n",
       "            observer.disconnect();\n",
       "        }}\n",
       "}});\n",
       "\n",
       "// Listen for the removal of the full notebook cells\n",
       "var notebookContainer = gd.closest('#notebook-container');\n",
       "if (notebookContainer) {{\n",
       "    x.observe(notebookContainer, {childList: true});\n",
       "}}\n",
       "\n",
       "// Listen for the clearing of the current output cell\n",
       "var outputEl = gd.closest('.output');\n",
       "if (outputEl) {{\n",
       "    x.observe(outputEl, {childList: true});\n",
       "}}\n",
       "\n",
       "                        })\n",
       "                };\n",
       "                });\n",
       "            </script>\n",
       "        </div>"
      ]
     },
     "metadata": {},
     "output_type": "display_data"
    }
   ],
   "source": [
    "px.scatter(sp_melt,x='Days',y='Height',color='Tree Species',trendline='ols')"
   ]
  },
  {
   "cell_type": "code",
   "execution_count": 108,
   "metadata": {},
   "outputs": [
    {
     "data": {
      "text/plain": [
       "pandas.core.frame.DataFrame"
      ]
     },
     "execution_count": 108,
     "metadata": {},
     "output_type": "execute_result"
    }
   ],
   "source": []
  },
  {
   "cell_type": "code",
   "execution_count": null,
   "metadata": {},
   "outputs": [],
   "source": []
  }
 ],
 "metadata": {
  "kernelspec": {
   "display_name": "Python 3",
   "language": "python",
   "name": "python3"
  },
  "language_info": {
   "codemirror_mode": {
    "name": "ipython",
    "version": 3
   },
   "file_extension": ".py",
   "mimetype": "text/x-python",
   "name": "python",
   "nbconvert_exporter": "python",
   "pygments_lexer": "ipython3",
   "version": "3.7.3"
  }
 },
 "nbformat": 4,
 "nbformat_minor": 2
}
